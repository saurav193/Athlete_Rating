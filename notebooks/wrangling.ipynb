{
 "cells": [
  {
   "cell_type": "code",
   "execution_count": 2,
   "metadata": {},
   "outputs": [],
   "source": [
    "import pandas as pd\n",
    "import numpy as np\n",
    "import dropbox\n",
    "import os\n"
   ]
  },
  {
   "cell_type": "code",
   "execution_count": 4,
   "metadata": {},
   "outputs": [],
   "source": [
    "# class Point():\n",
    "#     def __init__(self, x, y):\n",
    "#         self.x = x\n",
    "#         self.y = y\n",
    "\n",
    "#     def __repr__(self):\n",
    "#         return 'Point({0},{1})'.format(self.x,self.y)\n",
    "\n",
    "#     def translate(self, dx, dy):\n",
    "#         \"Add dx and dy to the point.\"\n",
    "#         self.x += dx\n",
    "#         self.y += dy\n",
    "\n",
    "# e = Point(1.5, 2.5)"
   ]
  },
  {
   "cell_type": "code",
   "execution_count": 3,
   "metadata": {},
   "outputs": [
    {
     "data": {
      "text/plain": [
       "FullAccount(account_id='dbid:AABT1H-NJgK-ns_10QubSjssbwKMHtznqDU', name=Name(given_name='saurav', surname='chowdhury', familiar_name='saurav', display_name='saurav chowdhury', abbreviated_name='SC'), email='saurav13iitr@gmail.com', email_verified=True, disabled=False, locale='en', referral_link='https://www.dropbox.com/referrals/AADGzvUD1naruTWe92WGn9EaGcI-C2M2Zfg?src=app9-7501328', is_paired=False, account_type=AccountType('basic', None), root_info=UserRootInfo(root_namespace_id='884484377', home_namespace_id='884484377'), profile_photo_url=None, country='IN', team=None, team_member_id=None)"
      ]
     },
     "execution_count": 3,
     "metadata": {},
     "output_type": "execute_result"
    }
   ],
   "source": [
    "dbx = dropbox.Dropbox(os.environ['DROPBOX_API'])\n",
    "dbx.users_get_current_account()"
   ]
  },
  {
   "cell_type": "code",
   "execution_count": 4,
   "metadata": {},
   "outputs": [
    {
     "data": {
      "text/plain": [
       "(21726, 114)"
      ]
     },
     "execution_count": 4,
     "metadata": {},
     "output_type": "execute_result"
    }
   ],
   "source": [
    "years = list(range(2002, 2020))\n",
    "final_df = pd.DataFrame()\n",
    "\n",
    "for year in years:\n",
    "    path= \"/Saurav/data/Stage_Specific_Ranking_-_Table_data\"\n",
    "    _, res = dbx.files_download(path+str(year)+\".csv\")\n",
    "    df=pd.read_csv(res.raw)\n",
    "    final_df = pd.concat([df,final_df])\n",
    "\n",
    "final_df.shape"
   ]
  },
  {
   "cell_type": "code",
   "execution_count": 9,
   "metadata": {},
   "outputs": [
    {
     "data": {
      "text/plain": [
       "21726"
      ]
     },
     "execution_count": 9,
     "metadata": {},
     "output_type": "execute_result"
    }
   ],
   "source": [
    "len(final_df['Athlete/Comp'].unique()) ## Unique ID for athele => Data at Athlete X Country X Competetion X Round lvl"
   ]
  },
  {
   "cell_type": "code",
   "execution_count": 73,
   "metadata": {
    "scrolled": false
   },
   "outputs": [
    {
     "name": "stderr",
     "output_type": "stream",
     "text": [
      "C:\\Users\\saura\\Anaconda3\\lib\\site-packages\\pandas\\core\\indexing.py:845: SettingWithCopyWarning: \n",
      "A value is trying to be set on a copy of a slice from a DataFrame.\n",
      "Try using .loc[row_indexer,col_indexer] = value instead\n",
      "\n",
      "See the caveats in the documentation: https://pandas.pydata.org/pandas-docs/stable/user_guide/indexing.html#returning-a-view-versus-a-copy\n",
      "  self.obj[key] = _infer_fill_value(value)\n",
      "C:\\Users\\saura\\Anaconda3\\lib\\site-packages\\pandas\\core\\indexing.py:966: SettingWithCopyWarning: \n",
      "A value is trying to be set on a copy of a slice from a DataFrame.\n",
      "Try using .loc[row_indexer,col_indexer] = value instead\n",
      "\n",
      "See the caveats in the documentation: https://pandas.pydata.org/pandas-docs/stable/user_guide/indexing.html#returning-a-view-versus-a-copy\n",
      "  self.obj[item] = s\n"
     ]
    },
    {
     "data": {
      "text/html": [
       "<div>\n",
       "<style scoped>\n",
       "    .dataframe tbody tr th:only-of-type {\n",
       "        vertical-align: middle;\n",
       "    }\n",
       "\n",
       "    .dataframe tbody tr th {\n",
       "        vertical-align: top;\n",
       "    }\n",
       "\n",
       "    .dataframe thead th {\n",
       "        text-align: right;\n",
       "    }\n",
       "</style>\n",
       "<table border=\"1\" class=\"dataframe\">\n",
       "  <thead>\n",
       "    <tr style=\"text-align: right;\">\n",
       "      <th></th>\n",
       "      <th>Metric</th>\n",
       "      <th>Finish</th>\n",
       "      <th>Temp - Air</th>\n",
       "      <th>Judge 1 Score</th>\n",
       "      <th>Judge 2 Score</th>\n",
       "      <th>Judge 3 Score</th>\n",
       "      <th>Judge 4 Score</th>\n",
       "      <th>Judge 5 Score</th>\n",
       "      <th>Judge 6 Score - 1</th>\n",
       "      <th>Judge 7 Score - 1</th>\n",
       "      <th>Major Finalist</th>\n",
       "      <th>Major Medalist</th>\n",
       "      <th>Olympic Finalist</th>\n",
       "      <th>Olympic Medalist</th>\n",
       "      <th>Temp - Snow</th>\n",
       "      <th>Season</th>\n",
       "      <th>Wind</th>\n",
       "      <th>age_yrs</th>\n",
       "    </tr>\n",
       "  </thead>\n",
       "  <tbody>\n",
       "    <tr>\n",
       "      <th>count</th>\n",
       "      <td>21726.000000</td>\n",
       "      <td>21726.000000</td>\n",
       "      <td>18532.000000</td>\n",
       "      <td>21726.000000</td>\n",
       "      <td>21726.000000</td>\n",
       "      <td>21726.000000</td>\n",
       "      <td>21726.000000</td>\n",
       "      <td>21726.000000</td>\n",
       "      <td>21697.000000</td>\n",
       "      <td>21697.000000</td>\n",
       "      <td>21726.000000</td>\n",
       "      <td>21726.000000</td>\n",
       "      <td>21726.000000</td>\n",
       "      <td>21726.000000</td>\n",
       "      <td>16676.000000</td>\n",
       "      <td>21726.000000</td>\n",
       "      <td>18150.000000</td>\n",
       "      <td>20981.000000</td>\n",
       "    </tr>\n",
       "    <tr>\n",
       "      <th>mean</th>\n",
       "      <td>67.352908</td>\n",
       "      <td>17.402651</td>\n",
       "      <td>-3.453551</td>\n",
       "      <td>8.008179</td>\n",
       "      <td>8.014674</td>\n",
       "      <td>8.004101</td>\n",
       "      <td>8.005482</td>\n",
       "      <td>8.006752</td>\n",
       "      <td>4.486526</td>\n",
       "      <td>4.489924</td>\n",
       "      <td>0.271472</td>\n",
       "      <td>0.142456</td>\n",
       "      <td>0.196815</td>\n",
       "      <td>0.103977</td>\n",
       "      <td>-3.530187</td>\n",
       "      <td>2012.146276</td>\n",
       "      <td>1.963769</td>\n",
       "      <td>30.999523</td>\n",
       "    </tr>\n",
       "    <tr>\n",
       "      <th>std</th>\n",
       "      <td>16.571876</td>\n",
       "      <td>13.568266</td>\n",
       "      <td>7.775170</td>\n",
       "      <td>5.953230</td>\n",
       "      <td>5.971693</td>\n",
       "      <td>5.952927</td>\n",
       "      <td>5.957863</td>\n",
       "      <td>5.959578</td>\n",
       "      <td>3.766914</td>\n",
       "      <td>3.788828</td>\n",
       "      <td>0.444729</td>\n",
       "      <td>0.349525</td>\n",
       "      <td>0.397600</td>\n",
       "      <td>0.305237</td>\n",
       "      <td>4.559196</td>\n",
       "      <td>4.983255</td>\n",
       "      <td>3.165129</td>\n",
       "      <td>6.916436</td>\n",
       "    </tr>\n",
       "    <tr>\n",
       "      <th>min</th>\n",
       "      <td>0.300000</td>\n",
       "      <td>1.000000</td>\n",
       "      <td>-27.000000</td>\n",
       "      <td>0.000000</td>\n",
       "      <td>0.000000</td>\n",
       "      <td>0.000000</td>\n",
       "      <td>0.000000</td>\n",
       "      <td>0.000000</td>\n",
       "      <td>0.000000</td>\n",
       "      <td>0.000000</td>\n",
       "      <td>0.000000</td>\n",
       "      <td>0.000000</td>\n",
       "      <td>0.000000</td>\n",
       "      <td>0.000000</td>\n",
       "      <td>-25.000000</td>\n",
       "      <td>2002.000000</td>\n",
       "      <td>0.000000</td>\n",
       "      <td>16.000000</td>\n",
       "    </tr>\n",
       "    <tr>\n",
       "      <th>25%</th>\n",
       "      <td>62.210000</td>\n",
       "      <td>6.000000</td>\n",
       "      <td>-7.000000</td>\n",
       "      <td>3.700000</td>\n",
       "      <td>3.700000</td>\n",
       "      <td>3.700000</td>\n",
       "      <td>3.700000</td>\n",
       "      <td>3.700000</td>\n",
       "      <td>1.800000</td>\n",
       "      <td>1.700000</td>\n",
       "      <td>0.000000</td>\n",
       "      <td>0.000000</td>\n",
       "      <td>0.000000</td>\n",
       "      <td>0.000000</td>\n",
       "      <td>-4.000000</td>\n",
       "      <td>2008.000000</td>\n",
       "      <td>0.000000</td>\n",
       "      <td>26.000000</td>\n",
       "    </tr>\n",
       "    <tr>\n",
       "      <th>50%</th>\n",
       "      <td>72.000000</td>\n",
       "      <td>14.000000</td>\n",
       "      <td>-2.000000</td>\n",
       "      <td>4.300000</td>\n",
       "      <td>4.300000</td>\n",
       "      <td>4.300000</td>\n",
       "      <td>4.300000</td>\n",
       "      <td>4.300000</td>\n",
       "      <td>2.300000</td>\n",
       "      <td>2.300000</td>\n",
       "      <td>0.000000</td>\n",
       "      <td>0.000000</td>\n",
       "      <td>0.000000</td>\n",
       "      <td>0.000000</td>\n",
       "      <td>-2.000000</td>\n",
       "      <td>2013.000000</td>\n",
       "      <td>0.900000</td>\n",
       "      <td>30.000000</td>\n",
       "    </tr>\n",
       "    <tr>\n",
       "      <th>75%</th>\n",
       "      <td>78.190000</td>\n",
       "      <td>26.000000</td>\n",
       "      <td>1.000000</td>\n",
       "      <td>15.000000</td>\n",
       "      <td>15.000000</td>\n",
       "      <td>15.000000</td>\n",
       "      <td>15.000000</td>\n",
       "      <td>15.000000</td>\n",
       "      <td>7.000000</td>\n",
       "      <td>7.000000</td>\n",
       "      <td>1.000000</td>\n",
       "      <td>0.000000</td>\n",
       "      <td>0.000000</td>\n",
       "      <td>0.000000</td>\n",
       "      <td>0.000000</td>\n",
       "      <td>2017.000000</td>\n",
       "      <td>2.700000</td>\n",
       "      <td>36.000000</td>\n",
       "    </tr>\n",
       "    <tr>\n",
       "      <th>max</th>\n",
       "      <td>94.910000</td>\n",
       "      <td>70.000000</td>\n",
       "      <td>25.000000</td>\n",
       "      <td>19.500000</td>\n",
       "      <td>19.400000</td>\n",
       "      <td>19.500000</td>\n",
       "      <td>19.300000</td>\n",
       "      <td>19.500000</td>\n",
       "      <td>24.000000</td>\n",
       "      <td>25.000000</td>\n",
       "      <td>1.000000</td>\n",
       "      <td>1.000000</td>\n",
       "      <td>1.000000</td>\n",
       "      <td>1.000000</td>\n",
       "      <td>2.000000</td>\n",
       "      <td>2019.000000</td>\n",
       "      <td>18.000000</td>\n",
       "      <td>57.000000</td>\n",
       "    </tr>\n",
       "  </tbody>\n",
       "</table>\n",
       "</div>"
      ],
      "text/plain": [
       "             Metric        Finish    Temp - Air  Judge 1 Score  Judge 2 Score  \\\n",
       "count  21726.000000  21726.000000  18532.000000   21726.000000   21726.000000   \n",
       "mean      67.352908     17.402651     -3.453551       8.008179       8.014674   \n",
       "std       16.571876     13.568266      7.775170       5.953230       5.971693   \n",
       "min        0.300000      1.000000    -27.000000       0.000000       0.000000   \n",
       "25%       62.210000      6.000000     -7.000000       3.700000       3.700000   \n",
       "50%       72.000000     14.000000     -2.000000       4.300000       4.300000   \n",
       "75%       78.190000     26.000000      1.000000      15.000000      15.000000   \n",
       "max       94.910000     70.000000     25.000000      19.500000      19.400000   \n",
       "\n",
       "       Judge 3 Score  Judge 4 Score  Judge 5 Score  Judge 6 Score - 1  \\\n",
       "count   21726.000000   21726.000000   21726.000000       21697.000000   \n",
       "mean        8.004101       8.005482       8.006752           4.486526   \n",
       "std         5.952927       5.957863       5.959578           3.766914   \n",
       "min         0.000000       0.000000       0.000000           0.000000   \n",
       "25%         3.700000       3.700000       3.700000           1.800000   \n",
       "50%         4.300000       4.300000       4.300000           2.300000   \n",
       "75%        15.000000      15.000000      15.000000           7.000000   \n",
       "max        19.500000      19.300000      19.500000          24.000000   \n",
       "\n",
       "       Judge 7 Score - 1  Major Finalist  Major Medalist  Olympic Finalist  \\\n",
       "count       21697.000000    21726.000000    21726.000000      21726.000000   \n",
       "mean            4.489924        0.271472        0.142456          0.196815   \n",
       "std             3.788828        0.444729        0.349525          0.397600   \n",
       "min             0.000000        0.000000        0.000000          0.000000   \n",
       "25%             1.700000        0.000000        0.000000          0.000000   \n",
       "50%             2.300000        0.000000        0.000000          0.000000   \n",
       "75%             7.000000        1.000000        0.000000          0.000000   \n",
       "max            25.000000        1.000000        1.000000          1.000000   \n",
       "\n",
       "       Olympic Medalist   Temp - Snow        Season          Wind  \\\n",
       "count      21726.000000  16676.000000  21726.000000  18150.000000   \n",
       "mean           0.103977     -3.530187   2012.146276      1.963769   \n",
       "std            0.305237      4.559196      4.983255      3.165129   \n",
       "min            0.000000    -25.000000   2002.000000      0.000000   \n",
       "25%            0.000000     -4.000000   2008.000000      0.000000   \n",
       "50%            0.000000     -2.000000   2013.000000      0.900000   \n",
       "75%            0.000000      0.000000   2017.000000      2.700000   \n",
       "max            1.000000      2.000000   2019.000000     18.000000   \n",
       "\n",
       "            age_yrs  \n",
       "count  20981.000000  \n",
       "mean      30.999523  \n",
       "std        6.916436  \n",
       "min       16.000000  \n",
       "25%       26.000000  \n",
       "50%       30.000000  \n",
       "75%       36.000000  \n",
       "max       57.000000  "
      ]
     },
     "execution_count": 73,
     "metadata": {},
     "output_type": "execute_result"
    }
   ],
   "source": [
    "filtered_data = final_df[['Athlete/Comp','Metric','Finish','Gender','Temp - Air','Judge 1 Score','Judge 2 Score',\n",
    "                          'Judge 3 Score','Judge 4 Score','Judge 5 Score','Judge 6 Score - 1','Judge 7 Score - 1',\n",
    "                          'Major Finalist','Major Medalist','Nation','Olympic Finalist','Olympic Medalist','Temp - Snow',\n",
    "                          'Season','Season/Comp','Round','Wind']]\n",
    "\n",
    "filtered_data.loc[:, 'age_yrs'] = 2020 - final_df['yob']\n",
    "filtered_data.describe()"
   ]
  },
  {
   "cell_type": "code",
   "execution_count": 58,
   "metadata": {},
   "outputs": [
    {
     "data": {
      "text/plain": [
       "True"
      ]
     },
     "execution_count": 58,
     "metadata": {},
     "output_type": "execute_result"
    }
   ],
   "source": [
    "# categorical = ['Athlete/Comp', 'Gender', 'Major Finalist','Major Medalist','Nation','Olympic Finalist','Olympic Medalist', \n",
    "#                'Season','Season/Comp']\n",
    "\n",
    "# numerical = ['Metric','Finish','Temp - Air','Judge 1 Score','Judge 2 Score','Judge 3 Score','Judge 4 Score',\n",
    "#              'Judge 5 Score','Judge 6 Score - 1','Judge 7 Score - 1','Temp - Snow','Wind','age_yrs']\n",
    "\n",
    "# len(categorical) + len(numerical) == len(filtered_data.columns)"
   ]
  },
  {
   "cell_type": "code",
   "execution_count": 74,
   "metadata": {
    "scrolled": true
   },
   "outputs": [
    {
     "data": {
      "text/plain": [
       "False"
      ]
     },
     "execution_count": 74,
     "metadata": {},
     "output_type": "execute_result"
    }
   ],
   "source": [
    "(filtered_data['age_yrs'] < 0).any() == True"
   ]
  },
  {
   "cell_type": "code",
   "execution_count": 75,
   "metadata": {},
   "outputs": [],
   "source": [
    "filtered_data.columns = filtered_data.columns.str.replace(\"/\",\"_\").str.replace(\"\\ \",\"_\").str.replace(\"-\",\"\")"
   ]
  },
  {
   "cell_type": "code",
   "execution_count": 76,
   "metadata": {},
   "outputs": [
    {
     "data": {
      "text/plain": [
       "Index(['Athlete_Comp', 'Metric', 'Finish', 'Gender', 'Temp__Air',\n",
       "       'Judge_1_Score', 'Judge_2_Score', 'Judge_3_Score', 'Judge_4_Score',\n",
       "       'Judge_5_Score', 'Judge_6_Score__1', 'Judge_7_Score__1',\n",
       "       'Major_Finalist', 'Major_Medalist', 'Nation', 'Olympic_Finalist',\n",
       "       'Olympic_Medalist', 'Temp__Snow', 'Season', 'Season_Comp', 'Round',\n",
       "       'Wind', 'age_yrs'],\n",
       "      dtype='object')"
      ]
     },
     "execution_count": 76,
     "metadata": {},
     "output_type": "execute_result"
    }
   ],
   "source": [
    "filtered_data.columns"
   ]
  },
  {
   "cell_type": "code",
   "execution_count": 77,
   "metadata": {},
   "outputs": [
    {
     "data": {
      "text/plain": [
       "array(['2019-North American Cup 1', '2019-Canadian Selections 2',\n",
       "       '2019-World Cup 1', '2019-World Cup 5', '2019-Canada Cup 1',\n",
       "       '2019-World Cup 3', '2019-Canadian Selections 1',\n",
       "       '2019-World Cup 6', '2019-Canada Cup 2', '2019-World Cup 2'],\n",
       "      dtype=object)"
      ]
     },
     "execution_count": 77,
     "metadata": {},
     "output_type": "execute_result"
    }
   ],
   "source": [
    "filtered_data['Season_Comp'].unique()[0:10]"
   ]
  },
  {
   "cell_type": "code",
   "execution_count": 78,
   "metadata": {},
   "outputs": [
    {
     "name": "stdout",
     "output_type": "stream",
     "text": [
      "(21726, 23)\n",
      "(15890, 23)\n",
      "(4585, 23)\n",
      "(1251, 23)\n",
      "21726\n"
     ]
    }
   ],
   "source": [
    "print(filtered_data.shape)\n",
    "\n",
    "tier1_df = filtered_data[filtered_data['Season_Comp'].str.lower().str.extract(r'.*(world).*', expand=False).notnull() |\\\n",
    "                 filtered_data['Season_Comp'].str.lower().str.extract(r'.*(olympics).*', expand=False).notnull()]\n",
    "\n",
    "print(tier1_df.shape)\n",
    "\n",
    "tier2_df = filtered_data[filtered_data['Season_Comp'].str.lower().str.extract(r'.*(north american).*', expand=False).notnull()]\n",
    "print(tier2_df.shape)\n",
    "\n",
    "tier3_df = filtered_data[filtered_data['Season_Comp'].str.lower().str.extract(r'.*(canad).*', expand=False).notnull()]\n",
    "print(tier3_df.shape)\n",
    "\n",
    "print(tier1_df.shape[0]+tier2_df.shape[0]+tier3_df.shape[0])"
   ]
  },
  {
   "cell_type": "markdown",
   "metadata": {},
   "source": [
    "### Data Cleaning starts.."
   ]
  },
  {
   "cell_type": "code",
   "execution_count": 80,
   "metadata": {},
   "outputs": [],
   "source": [
    "tier1_df.to_csv(\"../data/tier_1.csv\", index = False)\n",
    "tier2_df.to_csv(\"../data/tier_2.csv\", index = False)\n",
    "tier3_df.to_csv(\"../data/tier_3.csv\", index = False)"
   ]
  },
  {
   "cell_type": "code",
   "execution_count": null,
   "metadata": {},
   "outputs": [],
   "source": []
  }
 ],
 "metadata": {
  "kernelspec": {
   "display_name": "Python 3",
   "language": "python",
   "name": "python3"
  },
  "language_info": {
   "codemirror_mode": {
    "name": "ipython",
    "version": 3
   },
   "file_extension": ".py",
   "mimetype": "text/x-python",
   "name": "python",
   "nbconvert_exporter": "python",
   "pygments_lexer": "ipython3",
   "version": "3.7.3"
  }
 },
 "nbformat": 4,
 "nbformat_minor": 4
}

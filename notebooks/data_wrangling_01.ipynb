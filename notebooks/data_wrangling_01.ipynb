{
 "cells": [
  {
   "cell_type": "code",
   "execution_count": 1,
   "metadata": {},
   "outputs": [
    {
     "data": {
      "text/plain": [
       "RendererRegistry.enable('notebook')"
      ]
     },
     "execution_count": 1,
     "metadata": {},
     "output_type": "execute_result"
    }
   ],
   "source": [
    "import pandas as pd\n",
    "import numpy as np\n",
    "import dropbox\n",
    "import os\n",
    "import matplotlib.pyplot as plt\n",
    "import altair as alt\n",
    "alt.renderers.enable('notebook')"
   ]
  },
  {
   "cell_type": "code",
   "execution_count": 4,
   "metadata": {},
   "outputs": [],
   "source": [
    "# class Point():\n",
    "#     def __init__(self, x, y):\n",
    "#         self.x = x\n",
    "#         self.y = y\n",
    "\n",
    "#     def __repr__(self):\n",
    "#         return 'Point({0},{1})'.format(self.x,self.y)\n",
    "\n",
    "#     def translate(self, dx, dy):\n",
    "#         \"Add dx and dy to the point.\"\n",
    "#         self.x += dx\n",
    "#         self.y += dy\n",
    "\n",
    "# e = Point(1.5, 2.5)"
   ]
  },
  {
   "cell_type": "code",
   "execution_count": 73,
   "metadata": {},
   "outputs": [
    {
     "data": {
      "text/plain": [
       "FullAccount(account_id='dbid:AABT1H-NJgK-ns_10QubSjssbwKMHtznqDU', name=Name(given_name='saurav', surname='chowdhury', familiar_name='saurav', display_name='saurav chowdhury', abbreviated_name='SC'), email='saurav13iitr@gmail.com', email_verified=True, disabled=False, locale='en', referral_link='https://www.dropbox.com/referrals/AADGzvUD1naruTWe92WGn9EaGcI-C2M2Zfg?src=app9-7501328', is_paired=False, account_type=AccountType('basic', None), root_info=UserRootInfo(root_namespace_id='884484377', home_namespace_id='884484377'), profile_photo_url=None, country='IN', team=None, team_member_id=None)"
      ]
     },
     "execution_count": 73,
     "metadata": {},
     "output_type": "execute_result"
    }
   ],
   "source": [
    "dbx = dropbox.Dropbox(os.environ['DROPBOX_API'])\n",
    "dbx.users_get_current_account()"
   ]
  },
  {
   "cell_type": "code",
   "execution_count": 3,
   "metadata": {},
   "outputs": [
    {
     "data": {
      "text/plain": [
       "(21726, 114)"
      ]
     },
     "execution_count": 3,
     "metadata": {},
     "output_type": "execute_result"
    }
   ],
   "source": [
    "years = list(range(2002, 2020))\n",
    "final_df = pd.DataFrame()\n",
    "\n",
    "for year in years:\n",
    "    path= \"/Saurav/data/Stage_Specific_Ranking_-_Table_data\"\n",
    "    _, res = dbx.files_download(path+str(year)+\".csv\")\n",
    "    df=pd.read_csv(res.raw)\n",
    "    final_df = pd.concat([df,final_df])\n",
    "\n",
    "final_df.shape"
   ]
  },
  {
   "cell_type": "code",
   "execution_count": 4,
   "metadata": {},
   "outputs": [
    {
     "data": {
      "text/plain": [
       "21726"
      ]
     },
     "execution_count": 4,
     "metadata": {},
     "output_type": "execute_result"
    }
   ],
   "source": [
    "len(final_df['Athlete/Comp'].unique()) ## Unique ID for athele => Data at Athlete X Country X Competetion X Round lvl"
   ]
  },
  {
   "cell_type": "code",
   "execution_count": 59,
   "metadata": {
    "scrolled": false
   },
   "outputs": [],
   "source": [
    "filtered_data = final_df.loc[:, ['Athlete/Comp','Metric', 'Score','Finish','Gender','Temp - Air','Judge 1 Score','Judge 2 Score',\n",
    "                          'Judge 3 Score','Judge 4 Score','Judge 5 Score','Judge 6 Score - 1','Judge 7 Score - 1',\n",
    "                          'Major Finalist','Major Medalist','Nation','Olympic Finalist','Olympic Medalist','Temp - Snow',\n",
    "                          'Season','Season/Comp','Round','Wind']]\n",
    "\n",
    "filtered_data['age_yrs'] = 2020 - final_df['yob']\n",
    "filtered_data['Athlete_name'] =  final_df['Athlete/Comp'].str.extract(r\"(.*-....).-\", expand=False)\n",
    "\n",
    "filtered_data = filtered_data.reset_index(drop = True)"
   ]
  },
  {
   "cell_type": "code",
   "execution_count": 60,
   "metadata": {
    "scrolled": true
   },
   "outputs": [
    {
     "data": {
      "text/plain": [
       "False"
      ]
     },
     "execution_count": 60,
     "metadata": {},
     "output_type": "execute_result"
    }
   ],
   "source": [
    "(filtered_data['age_yrs'] < 0).any() == True"
   ]
  },
  {
   "cell_type": "code",
   "execution_count": 61,
   "metadata": {},
   "outputs": [],
   "source": [
    "filtered_data.columns = filtered_data.columns.str.replace(\"/\",\"_\").str.replace(\"\\ -\\ \",\"_\").str.replace(\"\\ \",\"_\")"
   ]
  },
  {
   "cell_type": "code",
   "execution_count": 62,
   "metadata": {},
   "outputs": [
    {
     "data": {
      "text/plain": [
       "Index(['Athlete_Comp', 'Metric', 'Score', 'Finish', 'Gender', 'Temp_Air',\n",
       "       'Judge_1_Score', 'Judge_2_Score', 'Judge_3_Score', 'Judge_4_Score',\n",
       "       'Judge_5_Score', 'Judge_6_Score_1', 'Judge_7_Score_1', 'Major_Finalist',\n",
       "       'Major_Medalist', 'Nation', 'Olympic_Finalist', 'Olympic_Medalist',\n",
       "       'Temp_Snow', 'Season', 'Season_Comp', 'Round', 'Wind', 'age_yrs',\n",
       "       'Athlete_name'],\n",
       "      dtype='object')"
      ]
     },
     "execution_count": 62,
     "metadata": {},
     "output_type": "execute_result"
    }
   ],
   "source": [
    "filtered_data.columns"
   ]
  },
  {
   "cell_type": "code",
   "execution_count": 63,
   "metadata": {},
   "outputs": [
    {
     "data": {
      "text/plain": [
       "array([2014, 2013, 2012, 2011, 2010, 2009, 2008, 2007, 2006, 2005, 2004,\n",
       "       2003, 2002], dtype=int64)"
      ]
     },
     "execution_count": 63,
     "metadata": {},
     "output_type": "execute_result"
    }
   ],
   "source": [
    "filtered_data[filtered_data['Metric'] != filtered_data['Score']].loc[:, 'Season'].unique()"
   ]
  },
  {
   "cell_type": "code",
   "execution_count": 64,
   "metadata": {},
   "outputs": [
    {
     "data": {
      "text/html": [
       "<div>\n",
       "<style scoped>\n",
       "    .dataframe tbody tr th:only-of-type {\n",
       "        vertical-align: middle;\n",
       "    }\n",
       "\n",
       "    .dataframe tbody tr th {\n",
       "        vertical-align: top;\n",
       "    }\n",
       "\n",
       "    .dataframe thead th {\n",
       "        text-align: right;\n",
       "    }\n",
       "</style>\n",
       "<table border=\"1\" class=\"dataframe\">\n",
       "  <thead>\n",
       "    <tr style=\"text-align: right;\">\n",
       "      <th></th>\n",
       "      <th>Athlete_Comp</th>\n",
       "      <th>Metric</th>\n",
       "      <th>Score</th>\n",
       "      <th>Finish</th>\n",
       "      <th>Gender</th>\n",
       "      <th>Temp_Air</th>\n",
       "      <th>Judge_1_Score</th>\n",
       "      <th>Judge_2_Score</th>\n",
       "      <th>Judge_3_Score</th>\n",
       "      <th>Judge_4_Score</th>\n",
       "      <th>...</th>\n",
       "      <th>Nation</th>\n",
       "      <th>Olympic_Finalist</th>\n",
       "      <th>Olympic_Medalist</th>\n",
       "      <th>Temp_Snow</th>\n",
       "      <th>Season</th>\n",
       "      <th>Season_Comp</th>\n",
       "      <th>Round</th>\n",
       "      <th>Wind</th>\n",
       "      <th>age_yrs</th>\n",
       "      <th>Athlete_name</th>\n",
       "    </tr>\n",
       "  </thead>\n",
       "  <tbody>\n",
       "    <tr>\n",
       "      <th>13699</th>\n",
       "      <td>SMYSHLIAEV Aleksandr - OAR - World Cup 5 - 201...</td>\n",
       "      <td>52.48</td>\n",
       "      <td>15.83</td>\n",
       "      <td>15</td>\n",
       "      <td>Men</td>\n",
       "      <td>-2.0</td>\n",
       "      <td>2.5</td>\n",
       "      <td>2.5</td>\n",
       "      <td>1.1</td>\n",
       "      <td>2.7</td>\n",
       "      <td>...</td>\n",
       "      <td>OAR</td>\n",
       "      <td>1</td>\n",
       "      <td>1</td>\n",
       "      <td>-1.0</td>\n",
       "      <td>2010</td>\n",
       "      <td>2010-World Cup 5</td>\n",
       "      <td>Final 1</td>\n",
       "      <td>NaN</td>\n",
       "      <td>33.0</td>\n",
       "      <td>SMYSHLIAEV Aleksandr - OAR</td>\n",
       "    </tr>\n",
       "    <tr>\n",
       "      <th>13700</th>\n",
       "      <td>WILSON Bryon - USA - World Cup 7 - 2010 - Final 1</td>\n",
       "      <td>82.67</td>\n",
       "      <td>24.30</td>\n",
       "      <td>8</td>\n",
       "      <td>Men</td>\n",
       "      <td>-3.0</td>\n",
       "      <td>4.3</td>\n",
       "      <td>4.6</td>\n",
       "      <td>4.5</td>\n",
       "      <td>4.5</td>\n",
       "      <td>...</td>\n",
       "      <td>USA</td>\n",
       "      <td>1</td>\n",
       "      <td>1</td>\n",
       "      <td>-5.0</td>\n",
       "      <td>2010</td>\n",
       "      <td>2010-World Cup 7</td>\n",
       "      <td>Final 1</td>\n",
       "      <td>0.0</td>\n",
       "      <td>32.0</td>\n",
       "      <td>WILSON Bryon - USA</td>\n",
       "    </tr>\n",
       "    <tr>\n",
       "      <th>13701</th>\n",
       "      <td>DUFOUR LAPOINTE Justine - CAN - North American...</td>\n",
       "      <td>70.56</td>\n",
       "      <td>20.66</td>\n",
       "      <td>6</td>\n",
       "      <td>Women</td>\n",
       "      <td>NaN</td>\n",
       "      <td>3.6</td>\n",
       "      <td>4.0</td>\n",
       "      <td>3.9</td>\n",
       "      <td>4.0</td>\n",
       "      <td>...</td>\n",
       "      <td>CAN</td>\n",
       "      <td>1</td>\n",
       "      <td>1</td>\n",
       "      <td>NaN</td>\n",
       "      <td>2010</td>\n",
       "      <td>2010-North American Cup 2</td>\n",
       "      <td>Qualification 1</td>\n",
       "      <td>NaN</td>\n",
       "      <td>26.0</td>\n",
       "      <td>DUFOUR LAPOINTE Justine - CAN</td>\n",
       "    </tr>\n",
       "    <tr>\n",
       "      <th>13702</th>\n",
       "      <td>SALONEN Janne - FIN - World Cup 2 - 2010 - Qua...</td>\n",
       "      <td>70.56</td>\n",
       "      <td>20.76</td>\n",
       "      <td>39</td>\n",
       "      <td>Men</td>\n",
       "      <td>-3.0</td>\n",
       "      <td>3.8</td>\n",
       "      <td>3.9</td>\n",
       "      <td>3.6</td>\n",
       "      <td>3.7</td>\n",
       "      <td>...</td>\n",
       "      <td>FIN</td>\n",
       "      <td>0</td>\n",
       "      <td>0</td>\n",
       "      <td>-4.0</td>\n",
       "      <td>2010</td>\n",
       "      <td>2010-World Cup 2</td>\n",
       "      <td>Qualification</td>\n",
       "      <td>4.0</td>\n",
       "      <td>32.0</td>\n",
       "      <td>SALONEN Janne - FIN</td>\n",
       "    </tr>\n",
       "    <tr>\n",
       "      <th>13703</th>\n",
       "      <td>KEATING Nicholas - USA - North American Cup 2 ...</td>\n",
       "      <td>70.56</td>\n",
       "      <td>20.96</td>\n",
       "      <td>19</td>\n",
       "      <td>Men</td>\n",
       "      <td>NaN</td>\n",
       "      <td>3.6</td>\n",
       "      <td>3.6</td>\n",
       "      <td>3.7</td>\n",
       "      <td>3.7</td>\n",
       "      <td>...</td>\n",
       "      <td>USA</td>\n",
       "      <td>0</td>\n",
       "      <td>0</td>\n",
       "      <td>NaN</td>\n",
       "      <td>2010</td>\n",
       "      <td>2010-North American Cup 2</td>\n",
       "      <td>Qualification 1</td>\n",
       "      <td>NaN</td>\n",
       "      <td>28.0</td>\n",
       "      <td>KEATING Nicholas - USA</td>\n",
       "    </tr>\n",
       "  </tbody>\n",
       "</table>\n",
       "<p>5 rows × 25 columns</p>\n",
       "</div>"
      ],
      "text/plain": [
       "                                            Athlete_Comp  Metric  Score  \\\n",
       "13699  SMYSHLIAEV Aleksandr - OAR - World Cup 5 - 201...   52.48  15.83   \n",
       "13700  WILSON Bryon - USA - World Cup 7 - 2010 - Final 1   82.67  24.30   \n",
       "13701  DUFOUR LAPOINTE Justine - CAN - North American...   70.56  20.66   \n",
       "13702  SALONEN Janne - FIN - World Cup 2 - 2010 - Qua...   70.56  20.76   \n",
       "13703  KEATING Nicholas - USA - North American Cup 2 ...   70.56  20.96   \n",
       "\n",
       "       Finish Gender  Temp_Air  Judge_1_Score  Judge_2_Score  Judge_3_Score  \\\n",
       "13699      15    Men      -2.0            2.5            2.5            1.1   \n",
       "13700       8    Men      -3.0            4.3            4.6            4.5   \n",
       "13701       6  Women       NaN            3.6            4.0            3.9   \n",
       "13702      39    Men      -3.0            3.8            3.9            3.6   \n",
       "13703      19    Men       NaN            3.6            3.6            3.7   \n",
       "\n",
       "       Judge_4_Score  ...  Nation  Olympic_Finalist  Olympic_Medalist  \\\n",
       "13699            2.7  ...     OAR                 1                 1   \n",
       "13700            4.5  ...     USA                 1                 1   \n",
       "13701            4.0  ...     CAN                 1                 1   \n",
       "13702            3.7  ...     FIN                 0                 0   \n",
       "13703            3.7  ...     USA                 0                 0   \n",
       "\n",
       "       Temp_Snow  Season                Season_Comp            Round  Wind  \\\n",
       "13699       -1.0    2010           2010-World Cup 5          Final 1   NaN   \n",
       "13700       -5.0    2010           2010-World Cup 7          Final 1   0.0   \n",
       "13701        NaN    2010  2010-North American Cup 2  Qualification 1   NaN   \n",
       "13702       -4.0    2010           2010-World Cup 2    Qualification   4.0   \n",
       "13703        NaN    2010  2010-North American Cup 2  Qualification 1   NaN   \n",
       "\n",
       "       age_yrs                   Athlete_name  \n",
       "13699     33.0     SMYSHLIAEV Aleksandr - OAR  \n",
       "13700     32.0             WILSON Bryon - USA  \n",
       "13701     26.0  DUFOUR LAPOINTE Justine - CAN  \n",
       "13702     32.0            SALONEN Janne - FIN  \n",
       "13703     28.0         KEATING Nicholas - USA  \n",
       "\n",
       "[5 rows x 25 columns]"
      ]
     },
     "execution_count": 64,
     "metadata": {},
     "output_type": "execute_result"
    }
   ],
   "source": [
    "filtered_data[filtered_data['Season'] == 2010].head()"
   ]
  },
  {
   "cell_type": "code",
   "execution_count": 65,
   "metadata": {},
   "outputs": [
    {
     "data": {
      "text/html": [
       "<div>\n",
       "<style scoped>\n",
       "    .dataframe tbody tr th:only-of-type {\n",
       "        vertical-align: middle;\n",
       "    }\n",
       "\n",
       "    .dataframe tbody tr th {\n",
       "        vertical-align: top;\n",
       "    }\n",
       "\n",
       "    .dataframe thead th {\n",
       "        text-align: right;\n",
       "    }\n",
       "</style>\n",
       "<table border=\"1\" class=\"dataframe\">\n",
       "  <thead>\n",
       "    <tr style=\"text-align: right;\">\n",
       "      <th></th>\n",
       "      <th>Athlete_Comp</th>\n",
       "      <th>Metric</th>\n",
       "      <th>Score</th>\n",
       "      <th>Finish</th>\n",
       "      <th>Gender</th>\n",
       "      <th>Temp_Air</th>\n",
       "      <th>Judge_1_Score</th>\n",
       "      <th>Judge_2_Score</th>\n",
       "      <th>Judge_3_Score</th>\n",
       "      <th>Judge_4_Score</th>\n",
       "      <th>...</th>\n",
       "      <th>Nation</th>\n",
       "      <th>Olympic_Finalist</th>\n",
       "      <th>Olympic_Medalist</th>\n",
       "      <th>Temp_Snow</th>\n",
       "      <th>Season</th>\n",
       "      <th>Season_Comp</th>\n",
       "      <th>Round</th>\n",
       "      <th>Wind</th>\n",
       "      <th>age_yrs</th>\n",
       "      <th>Athlete_name</th>\n",
       "    </tr>\n",
       "  </thead>\n",
       "  <tbody>\n",
       "    <tr>\n",
       "      <th>13699</th>\n",
       "      <td>SMYSHLIAEV Aleksandr - OAR - World Cup 5 - 201...</td>\n",
       "      <td>52.77</td>\n",
       "      <td>15.83</td>\n",
       "      <td>15</td>\n",
       "      <td>Men</td>\n",
       "      <td>-2.0</td>\n",
       "      <td>2.5</td>\n",
       "      <td>2.5</td>\n",
       "      <td>1.1</td>\n",
       "      <td>2.7</td>\n",
       "      <td>...</td>\n",
       "      <td>OAR</td>\n",
       "      <td>1</td>\n",
       "      <td>1</td>\n",
       "      <td>-1.0</td>\n",
       "      <td>2010</td>\n",
       "      <td>2010-World Cup 5</td>\n",
       "      <td>Final 1</td>\n",
       "      <td>NaN</td>\n",
       "      <td>33.0</td>\n",
       "      <td>SMYSHLIAEV Aleksandr - OAR</td>\n",
       "    </tr>\n",
       "    <tr>\n",
       "      <th>13700</th>\n",
       "      <td>WILSON Bryon - USA - World Cup 7 - 2010 - Final 1</td>\n",
       "      <td>81.00</td>\n",
       "      <td>24.30</td>\n",
       "      <td>8</td>\n",
       "      <td>Men</td>\n",
       "      <td>-3.0</td>\n",
       "      <td>4.3</td>\n",
       "      <td>4.6</td>\n",
       "      <td>4.5</td>\n",
       "      <td>4.5</td>\n",
       "      <td>...</td>\n",
       "      <td>USA</td>\n",
       "      <td>1</td>\n",
       "      <td>1</td>\n",
       "      <td>-5.0</td>\n",
       "      <td>2010</td>\n",
       "      <td>2010-World Cup 7</td>\n",
       "      <td>Final 1</td>\n",
       "      <td>0.0</td>\n",
       "      <td>32.0</td>\n",
       "      <td>WILSON Bryon - USA</td>\n",
       "    </tr>\n",
       "    <tr>\n",
       "      <th>13701</th>\n",
       "      <td>DUFOUR LAPOINTE Justine - CAN - North American...</td>\n",
       "      <td>68.87</td>\n",
       "      <td>20.66</td>\n",
       "      <td>6</td>\n",
       "      <td>Women</td>\n",
       "      <td>NaN</td>\n",
       "      <td>3.6</td>\n",
       "      <td>4.0</td>\n",
       "      <td>3.9</td>\n",
       "      <td>4.0</td>\n",
       "      <td>...</td>\n",
       "      <td>CAN</td>\n",
       "      <td>1</td>\n",
       "      <td>1</td>\n",
       "      <td>NaN</td>\n",
       "      <td>2010</td>\n",
       "      <td>2010-North American Cup 2</td>\n",
       "      <td>Qualification 1</td>\n",
       "      <td>NaN</td>\n",
       "      <td>26.0</td>\n",
       "      <td>DUFOUR LAPOINTE Justine - CAN</td>\n",
       "    </tr>\n",
       "    <tr>\n",
       "      <th>13702</th>\n",
       "      <td>SALONEN Janne - FIN - World Cup 2 - 2010 - Qua...</td>\n",
       "      <td>69.20</td>\n",
       "      <td>20.76</td>\n",
       "      <td>39</td>\n",
       "      <td>Men</td>\n",
       "      <td>-3.0</td>\n",
       "      <td>3.8</td>\n",
       "      <td>3.9</td>\n",
       "      <td>3.6</td>\n",
       "      <td>3.7</td>\n",
       "      <td>...</td>\n",
       "      <td>FIN</td>\n",
       "      <td>0</td>\n",
       "      <td>0</td>\n",
       "      <td>-4.0</td>\n",
       "      <td>2010</td>\n",
       "      <td>2010-World Cup 2</td>\n",
       "      <td>Qualification</td>\n",
       "      <td>4.0</td>\n",
       "      <td>32.0</td>\n",
       "      <td>SALONEN Janne - FIN</td>\n",
       "    </tr>\n",
       "    <tr>\n",
       "      <th>13703</th>\n",
       "      <td>KEATING Nicholas - USA - North American Cup 2 ...</td>\n",
       "      <td>69.87</td>\n",
       "      <td>20.96</td>\n",
       "      <td>19</td>\n",
       "      <td>Men</td>\n",
       "      <td>NaN</td>\n",
       "      <td>3.6</td>\n",
       "      <td>3.6</td>\n",
       "      <td>3.7</td>\n",
       "      <td>3.7</td>\n",
       "      <td>...</td>\n",
       "      <td>USA</td>\n",
       "      <td>0</td>\n",
       "      <td>0</td>\n",
       "      <td>NaN</td>\n",
       "      <td>2010</td>\n",
       "      <td>2010-North American Cup 2</td>\n",
       "      <td>Qualification 1</td>\n",
       "      <td>NaN</td>\n",
       "      <td>28.0</td>\n",
       "      <td>KEATING Nicholas - USA</td>\n",
       "    </tr>\n",
       "  </tbody>\n",
       "</table>\n",
       "<p>5 rows × 25 columns</p>\n",
       "</div>"
      ],
      "text/plain": [
       "                                            Athlete_Comp  Metric  Score  \\\n",
       "13699  SMYSHLIAEV Aleksandr - OAR - World Cup 5 - 201...   52.77  15.83   \n",
       "13700  WILSON Bryon - USA - World Cup 7 - 2010 - Final 1   81.00  24.30   \n",
       "13701  DUFOUR LAPOINTE Justine - CAN - North American...   68.87  20.66   \n",
       "13702  SALONEN Janne - FIN - World Cup 2 - 2010 - Qua...   69.20  20.76   \n",
       "13703  KEATING Nicholas - USA - North American Cup 2 ...   69.87  20.96   \n",
       "\n",
       "       Finish Gender  Temp_Air  Judge_1_Score  Judge_2_Score  Judge_3_Score  \\\n",
       "13699      15    Men      -2.0            2.5            2.5            1.1   \n",
       "13700       8    Men      -3.0            4.3            4.6            4.5   \n",
       "13701       6  Women       NaN            3.6            4.0            3.9   \n",
       "13702      39    Men      -3.0            3.8            3.9            3.6   \n",
       "13703      19    Men       NaN            3.6            3.6            3.7   \n",
       "\n",
       "       Judge_4_Score  ...  Nation  Olympic_Finalist  Olympic_Medalist  \\\n",
       "13699            2.7  ...     OAR                 1                 1   \n",
       "13700            4.5  ...     USA                 1                 1   \n",
       "13701            4.0  ...     CAN                 1                 1   \n",
       "13702            3.7  ...     FIN                 0                 0   \n",
       "13703            3.7  ...     USA                 0                 0   \n",
       "\n",
       "       Temp_Snow  Season                Season_Comp            Round  Wind  \\\n",
       "13699       -1.0    2010           2010-World Cup 5          Final 1   NaN   \n",
       "13700       -5.0    2010           2010-World Cup 7          Final 1   0.0   \n",
       "13701        NaN    2010  2010-North American Cup 2  Qualification 1   NaN   \n",
       "13702       -4.0    2010           2010-World Cup 2    Qualification   4.0   \n",
       "13703        NaN    2010  2010-North American Cup 2  Qualification 1   NaN   \n",
       "\n",
       "       age_yrs                   Athlete_name  \n",
       "13699     33.0     SMYSHLIAEV Aleksandr - OAR  \n",
       "13700     32.0             WILSON Bryon - USA  \n",
       "13701     26.0  DUFOUR LAPOINTE Justine - CAN  \n",
       "13702     32.0            SALONEN Janne - FIN  \n",
       "13703     28.0         KEATING Nicholas - USA  \n",
       "\n",
       "[5 rows x 25 columns]"
      ]
     },
     "execution_count": 65,
     "metadata": {},
     "output_type": "execute_result"
    }
   ],
   "source": [
    "#Updating old scores in same scale as new metric\n",
    "\n",
    "filtered_data['Metric'] = [round(filtered_data.loc[i,'Score']/30*100, 2) if filtered_data.loc[i, 'Metric'] != filtered_data.loc[i,'Score'] \\\n",
    "        else filtered_data.loc[i, 'Metric'] for i in range(len(filtered_data))]\n",
    "\n",
    "filtered_data[filtered_data['Season'] == 2010].head()"
   ]
  },
  {
   "cell_type": "code",
   "execution_count": 66,
   "metadata": {},
   "outputs": [
    {
     "name": "stdout",
     "output_type": "stream",
     "text": [
      "(6430, 24)\n",
      "(4765, 24)\n",
      "(1494, 24)\n",
      "(171, 24)\n",
      "6430\n"
     ]
    }
   ],
   "source": [
    "# Dropping the scores column\n",
    "filtered_data = filtered_data.drop(columns = ['Score'])\n",
    "\n",
    "#filtering the finals only\n",
    "filtered_data = filtered_data[filtered_data['Round'].str.lower().str.extract(r'.*(final).*', expand=False).notnull()]\n",
    "\n",
    "print(filtered_data.shape)\n",
    "#dividing competition data into 3 levels\n",
    "tier1_df = filtered_data[filtered_data['Season_Comp'].str.lower().str.extract(r'.*(world).*', expand=False).notnull() |\\\n",
    "                 filtered_data['Season_Comp'].str.lower().str.extract(r'.*(olympics).*', expand=False).notnull()]\n",
    "\n",
    "print(tier1_df.shape)\n",
    "\n",
    "tier2_df = filtered_data[filtered_data['Season_Comp'].str.lower().str.extract(r'.*(north american).*', expand=False).notnull()]\n",
    "print(tier2_df.shape)\n",
    "\n",
    "tier3_df = filtered_data[filtered_data['Season_Comp'].str.lower().str.extract(r'.*(canad).*', expand=False).notnull()]\n",
    "print(tier3_df.shape)\n",
    "\n",
    "print(tier1_df.shape[0]+tier2_df.shape[0]+tier3_df.shape[0])"
   ]
  },
  {
   "cell_type": "code",
   "execution_count": 67,
   "metadata": {},
   "outputs": [],
   "source": [
    "tier1_df = tier1_df.loc[:, ['Athlete_Comp', 'Athlete_name', 'Gender', 'age_yrs', 'Nation', 'Judge_1_Score', 'Judge_2_Score', \n",
    "                    'Judge_3_Score', 'Judge_4_Score', 'Judge_5_Score', 'Judge_6_Score_1', 'Judge_7_Score_1', 'Major_Finalist',\n",
    "                    'Major_Medalist', 'Olympic_Finalist', 'Olympic_Medalist','Temp_Snow', 'Temp_Air','Wind',\n",
    "                    'Season', 'Season_Comp', 'Round', 'Metric', 'Finish']]\n",
    "\n",
    "tier2_df= tier2_df.loc[:, ['Athlete_Comp', 'Athlete_name', 'Gender', 'age_yrs', 'Nation', 'Judge_1_Score', 'Judge_2_Score', \n",
    "                    'Judge_3_Score', 'Judge_4_Score', 'Judge_5_Score', 'Judge_6_Score_1', 'Judge_7_Score_1', 'Major_Finalist',\n",
    "                    'Major_Medalist', 'Olympic_Finalist', 'Olympic_Medalist','Temp_Snow', 'Temp_Air','Wind',\n",
    "                    'Season', 'Season_Comp', 'Round', 'Metric', 'Finish']]\n",
    "\n",
    "tier3_df= tier3_df.loc[:, ['Athlete_Comp', 'Athlete_name', 'Gender', 'age_yrs', 'Nation', 'Judge_1_Score', 'Judge_2_Score', \n",
    "                    'Judge_3_Score', 'Judge_4_Score', 'Judge_5_Score', 'Judge_6_Score_1', 'Judge_7_Score_1', 'Major_Finalist',\n",
    "                    'Major_Medalist', 'Olympic_Finalist', 'Olympic_Medalist','Temp_Snow', 'Temp_Air','Wind',\n",
    "                    'Season', 'Season_Comp', 'Round', 'Metric', 'Finish']]\n",
    "\n",
    "tier1_df = tier1_df.rename(columns = {'Athlete_Comp' : 'Athlete_Comp_ID', 'Finish' : 'Finish_Rank', 'Metric' : 'Score_Metric'})\n",
    "tier2_df = tier2_df.rename(columns = {'Athlete_Comp' : 'Athlete_Comp_ID', 'Finish' : 'Finish_Rank', 'Metric' : 'Score_Metric'})\n",
    "tier3_df = tier3_df.rename(columns = {'Athlete_Comp' : 'Athlete_Comp_ID', 'Finish' : 'Finish_Rank', 'Metric' : 'Score_Metric'})"
   ]
  },
  {
   "cell_type": "code",
   "execution_count": 68,
   "metadata": {},
   "outputs": [
    {
     "data": {
      "text/plain": [
       "array(['Men', 'Women'], dtype=object)"
      ]
     },
     "execution_count": 68,
     "metadata": {},
     "output_type": "execute_result"
    }
   ],
   "source": [
    "tier3_df['Gender'].unique()"
   ]
  },
  {
   "cell_type": "code",
   "execution_count": 69,
   "metadata": {},
   "outputs": [],
   "source": [
    "# Dividing into men and women\n",
    "tier1_df_M = tier1_df[tier1_df['Gender'] == \"Men\"]\n",
    "tier1_df_W = tier1_df[tier1_df['Gender'] == \"Women\"]\n",
    "tier2_df_M = tier2_df[tier2_df['Gender'] == \"Men\"]\n",
    "tier2_df_W = tier2_df[tier2_df['Gender'] == \"Women\"]\n",
    "tier3_df_M = tier3_df[tier3_df['Gender'] == \"Men\"]\n",
    "tier3_df_W = tier3_df[tier3_df['Gender'] == \"Women\"]\n"
   ]
  },
  {
   "cell_type": "code",
   "execution_count": 70,
   "metadata": {},
   "outputs": [],
   "source": [
    "tier1_df_M.to_csv(\"../data/tier_1_comp_data_men.csv\", index = False)\n",
    "tier2_df_M.to_csv(\"../data/tier_2_comp_data_men.csv\", index = False)\n",
    "tier3_df_M.to_csv(\"../data/tier_3_comp_data_men.csv\", index = False)\n",
    "\n",
    "tier1_df_W.to_csv(\"../data/tier_1_comp_data_women.csv\", index = False)\n",
    "tier2_df_W.to_csv(\"../data/tier_2_comp_data_women.csv\", index = False)\n",
    "tier3_df_W.to_csv(\"../data/tier_3_comp_data_women.csv\", index = False)"
   ]
  },
  {
   "cell_type": "code",
   "execution_count": 75,
   "metadata": {},
   "outputs": [
    {
     "name": "stdout",
     "output_type": "stream",
     "text": [
      "tier_1_comp_data_men.csv uploaded\n",
      "tier_2_comp_data_men.csv uploaded\n",
      "tier_3_comp_data_men.csv uploaded\n",
      "tier_1_comp_data_women.csv uploaded\n",
      "tier_2_comp_data_women.csv uploaded\n",
      "tier_3_comp_data_women.csv uploaded\n"
     ]
    }
   ],
   "source": [
    "files = ['tier_1_comp_data_men.csv', 'tier_2_comp_data_men.csv', 'tier_3_comp_data_men.csv',\n",
    "         'tier_1_comp_data_women.csv', 'tier_2_comp_data_women.csv', 'tier_3_comp_data_women.csv']\n",
    "\n",
    "local_path = \"../data/\"\n",
    "dest_path= \"/Saurav/data/compiled_data/\"\n",
    "\n",
    "for file in files:\n",
    "    filepath = local_path+file\n",
    "    \n",
    "    with open(filepath, \"rb\") as f:\n",
    "       # we want to overwite any previous version of the file\n",
    "        try:\n",
    "            dbx.files_upload(f.read(), dest_path+file, mode=dropbox.files.WriteMode(\"overwrite\"))\n",
    "            print(file+\" uploaded\")\n",
    "        except ApiError as err:\n",
    "            # This checks for the specific error where a user doesn't have enough Dropbox space quota to upload this file\n",
    "            if (err.error.is_path() and\n",
    "                    err.error.get_path().error.is_insufficient_space()):\n",
    "                sys.exit(\"ERROR: Cannot back up; insufficient space.\")\n",
    "            elif err.user_message_text:\n",
    "                print(err.user_message_text)\n",
    "                sys.exit()\n",
    "            else:\n",
    "                print(err)\n",
    "                sys.exit()\n"
   ]
  },
  {
   "cell_type": "code",
   "execution_count": null,
   "metadata": {},
   "outputs": [],
   "source": []
  }
 ],
 "metadata": {
  "kernelspec": {
   "display_name": "Python 3",
   "language": "python",
   "name": "python3"
  },
  "language_info": {
   "codemirror_mode": {
    "name": "ipython",
    "version": 3
   },
   "file_extension": ".py",
   "mimetype": "text/x-python",
   "name": "python",
   "nbconvert_exporter": "python",
   "pygments_lexer": "ipython3",
   "version": "3.7.3"
  }
 },
 "nbformat": 4,
 "nbformat_minor": 4
}

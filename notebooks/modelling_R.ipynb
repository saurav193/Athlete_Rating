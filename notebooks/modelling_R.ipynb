{
 "cells": [
  {
   "cell_type": "code",
   "execution_count": 1,
   "metadata": {},
   "outputs": [
    {
     "name": "stderr",
     "output_type": "stream",
     "text": [
      "-- \u001b[1mAttaching packages\u001b[22m --------------------------------------- tidyverse 1.2.1 --\n",
      "\n",
      "\u001b[32mv\u001b[39m \u001b[34mggplot2\u001b[39m 3.2.1     \u001b[32mv\u001b[39m \u001b[34mpurrr  \u001b[39m 0.3.3\n",
      "\u001b[32mv\u001b[39m \u001b[34mtibble \u001b[39m 2.1.3     \u001b[32mv\u001b[39m \u001b[34mdplyr  \u001b[39m 0.8.3\n",
      "\u001b[32mv\u001b[39m \u001b[34mtidyr  \u001b[39m 1.0.0     \u001b[32mv\u001b[39m \u001b[34mstringr\u001b[39m 1.4.0\n",
      "\u001b[32mv\u001b[39m \u001b[34mreadr  \u001b[39m 1.3.1     \u001b[32mv\u001b[39m \u001b[34mforcats\u001b[39m 0.4.0\n",
      "\n",
      "-- \u001b[1mConflicts\u001b[22m ------------------------------------------ tidyverse_conflicts() --\n",
      "\u001b[31mx\u001b[39m \u001b[34mdplyr\u001b[39m::\u001b[32mfilter()\u001b[39m masks \u001b[34mstats\u001b[39m::filter()\n",
      "\u001b[31mx\u001b[39m \u001b[34mdplyr\u001b[39m::\u001b[32mlag()\u001b[39m    masks \u001b[34mstats\u001b[39m::lag()\n",
      "\n",
      "Loading required package: Matrix\n",
      "\n",
      "\n",
      "Attaching package: 'Matrix'\n",
      "\n",
      "\n",
      "The following objects are masked from 'package:tidyr':\n",
      "\n",
      "    expand, pack, unpack\n",
      "\n",
      "\n"
     ]
    }
   ],
   "source": [
    "library(tidyverse)\n",
    "library(lme4)\n",
    "library(ggplot2)"
   ]
  },
  {
   "cell_type": "code",
   "execution_count": 18,
   "metadata": {},
   "outputs": [
    {
     "name": "stderr",
     "output_type": "stream",
     "text": [
      "Parsed with column specification:\n",
      "cols(\n",
      "  Athlete_name = \u001b[31mcol_character()\u001b[39m,\n",
      "  Adjusted_score = \u001b[32mcol_double()\u001b[39m,\n",
      "  Season = \u001b[32mcol_double()\u001b[39m,\n",
      "  tier = \u001b[32mcol_double()\u001b[39m\n",
      ")\n",
      "\n",
      "Parsed with column specification:\n",
      "cols(\n",
      "  Athlete_name = \u001b[31mcol_character()\u001b[39m,\n",
      "  Adjusted_score = \u001b[32mcol_double()\u001b[39m,\n",
      "  Season = \u001b[32mcol_double()\u001b[39m,\n",
      "  tier = \u001b[32mcol_double()\u001b[39m\n",
      ")\n",
      "\n"
     ]
    }
   ],
   "source": [
    "df_men <- read_csv(\"../data/temp_file_for_level_adj_men.csv\")\n",
    "df_women <- read_csv(\"../data/temp_file_for_level_adj_women.csv\")\n"
   ]
  },
  {
   "cell_type": "code",
   "execution_count": 14,
   "metadata": {},
   "outputs": [
    {
     "name": "stderr",
     "output_type": "stream",
     "text": [
      "Parsed with column specification:\n",
      "cols(\n",
      "  Athlete_Comp_ID = \u001b[31mcol_character()\u001b[39m,\n",
      "  Athlete_name = \u001b[31mcol_character()\u001b[39m,\n",
      "  Score_Metric = \u001b[32mcol_double()\u001b[39m,\n",
      "  Finish_Rank = \u001b[32mcol_double()\u001b[39m,\n",
      "  mean = \u001b[32mcol_double()\u001b[39m,\n",
      "  stddev = \u001b[32mcol_double()\u001b[39m,\n",
      "  Score_Multiplier = \u001b[32mcol_double()\u001b[39m,\n",
      "  Adjusted_score = \u001b[32mcol_double()\u001b[39m,\n",
      "  Season = \u001b[32mcol_double()\u001b[39m,\n",
      "  Season_Comp = \u001b[31mcol_character()\u001b[39m,\n",
      "  Round = \u001b[31mcol_character()\u001b[39m,\n",
      "  tier = \u001b[32mcol_double()\u001b[39m\n",
      ")\n",
      "\n",
      "Parsed with column specification:\n",
      "cols(\n",
      "  Athlete_Comp_ID = \u001b[31mcol_character()\u001b[39m,\n",
      "  Athlete_name = \u001b[31mcol_character()\u001b[39m,\n",
      "  Score_Metric = \u001b[32mcol_double()\u001b[39m,\n",
      "  Finish_Rank = \u001b[32mcol_double()\u001b[39m,\n",
      "  mean = \u001b[32mcol_double()\u001b[39m,\n",
      "  stddev = \u001b[32mcol_double()\u001b[39m,\n",
      "  Score_Multiplier = \u001b[32mcol_double()\u001b[39m,\n",
      "  Adjusted_score = \u001b[32mcol_double()\u001b[39m,\n",
      "  Season = \u001b[32mcol_double()\u001b[39m,\n",
      "  Season_Comp = \u001b[31mcol_character()\u001b[39m,\n",
      "  Round = \u001b[31mcol_character()\u001b[39m,\n",
      "  tier = \u001b[32mcol_double()\u001b[39m\n",
      ")\n",
      "\n"
     ]
    }
   ],
   "source": [
    "df_men_all <- read_csv(\"../data/all_tiers_adjusted_scores_men.csv\")\n",
    "df_women_all <- read_csv(\"../data/all_tiers_adjusted_scores_women.csv\")\n"
   ]
  },
  {
   "cell_type": "code",
   "execution_count": 4,
   "metadata": {},
   "outputs": [],
   "source": [
    "df_men_all <- df_men_all %>% select(Athlete_name, Adjusted_score, Season, tier)\n",
    "df_women_all <- df_women_all %>% select(Athlete_name, Adjusted_score, Season, tier)\n"
   ]
  },
  {
   "cell_type": "code",
   "execution_count": 19,
   "metadata": {},
   "outputs": [],
   "source": [
    "df_men['tier'] <- lapply(df_men['tier'], as.character)\n",
    "df_men['Season'] <- lapply(df_men['Season'], as.character)\n",
    "\n",
    "df_men_all['tier'] <- lapply(df_men_all['tier'], as.character)\n",
    "df_men_all['Season'] <- lapply(df_men_all['Season'], as.character)\n",
    "\n",
    "df_women['tier'] <- lapply(df_women['tier'], as.character)\n",
    "df_women['Season'] <- lapply(df_women['Season'], as.character)\n"
   ]
  },
  {
   "cell_type": "code",
   "execution_count": 20,
   "metadata": {},
   "outputs": [
    {
     "data": {
      "text/html": [
       "<ol class=list-inline>\n",
       "\t<li>354</li>\n",
       "\t<li>4</li>\n",
       "</ol>\n"
      ],
      "text/latex": [
       "\\begin{enumerate*}\n",
       "\\item 354\n",
       "\\item 4\n",
       "\\end{enumerate*}\n"
      ],
      "text/markdown": [
       "1. 354\n",
       "2. 4\n",
       "\n",
       "\n"
      ],
      "text/plain": [
       "[1] 354   4"
      ]
     },
     "metadata": {},
     "output_type": "display_data"
    }
   ],
   "source": [
    "dim(df_women)"
   ]
  },
  {
   "cell_type": "code",
   "execution_count": 10,
   "metadata": {
    "scrolled": true
   },
   "outputs": [
    {
     "name": "stderr",
     "output_type": "stream",
     "text": [
      "Warning message in checkConv(attr(opt, \"derivs\"), opt$par, ctrl = control$checkConv, :\n",
      "\"Model failed to converge with max|grad| = 0.00264404 (tol = 0.002, component 1)\"\n"
     ]
    },
    {
     "data": {
      "text/plain": [
       "Linear mixed model fit by REML ['lmerMod']\n",
       "Formula: Adjusted_score ~ tier + (1 | Season)\n",
       "   Data: df_men_all\n",
       "\n",
       "REML criterion at convergence: 58712.6\n",
       "\n",
       "Scaled residuals: \n",
       "     Min       1Q   Median       3Q      Max \n",
       "-1.85173 -0.95000  0.05172  0.86928  2.61636 \n",
       "\n",
       "Random effects:\n",
       " Groups   Name        Variance Std.Dev.\n",
       " Season   (Intercept)  146.5   12.10   \n",
       " Residual             2443.9   49.44   \n",
       "Number of obs: 5515, groups:  Season, 18\n",
       "\n",
       "Fixed effects:\n",
       "            Estimate Std. Error t value\n",
       "(Intercept)   72.083      2.981  24.183\n",
       "tier2         -5.693      1.824  -3.121\n",
       "tier3        -20.101      3.607  -5.572\n",
       "\n",
       "Correlation of Fixed Effects:\n",
       "      (Intr) tier2 \n",
       "tier2 -0.119       \n",
       "tier3 -0.053  0.117\n",
       "convergence code: 0\n",
       "Model failed to converge with max|grad| = 0.00264404 (tol = 0.002, component 1)\n"
      ]
     },
     "metadata": {},
     "output_type": "display_data"
    }
   ],
   "source": [
    "# model considering all men all tiers\n",
    "model_season_all <- lmer(Adjusted_score ~ tier + (1 | Season), data = df_men_all)\n",
    "summary(model_season_all)"
   ]
  },
  {
   "cell_type": "code",
   "execution_count": 21,
   "metadata": {},
   "outputs": [
    {
     "data": {
      "text/plain": [
       "Linear mixed model fit by REML ['lmerMod']\n",
       "Formula: Adjusted_score ~ tier + (1 | Season)\n",
       "   Data: df_men\n",
       "\n",
       "REML criterion at convergence: 5159.5\n",
       "\n",
       "Scaled residuals: \n",
       "     Min       1Q   Median       3Q      Max \n",
       "-1.78822 -0.91112  0.01147  0.84977  2.72251 \n",
       "\n",
       "Random effects:\n",
       " Groups   Name        Variance Std.Dev.\n",
       " Season   (Intercept)  187.6   13.70   \n",
       " Residual             2022.2   44.97   \n",
       "Number of obs: 494, groups:  Season, 10\n",
       "\n",
       "Fixed effects:\n",
       "            Estimate Std. Error t value\n",
       "(Intercept)   74.673      5.531  13.502\n",
       "tier2        -21.468      4.559  -4.708\n",
       "tier3        -27.862      6.806  -4.094\n",
       "\n",
       "Correlation of Fixed Effects:\n",
       "      (Intr) tier2 \n",
       "tier2 -0.431       \n",
       "tier3 -0.270  0.398"
      ]
     },
     "metadata": {},
     "output_type": "display_data"
    }
   ],
   "source": [
    "# model considering only men who played both levels in the same season  \n",
    "model_season <- lmer(Adjusted_score ~ tier + (1 | Season), data = df_men)\n",
    "summary(model_season)"
   ]
  },
  {
   "cell_type": "code",
   "execution_count": 22,
   "metadata": {},
   "outputs": [
    {
     "data": {
      "text/plain": [
       "Linear mixed model fit by REML ['lmerMod']\n",
       "Formula: Adjusted_score ~ tier + (1 | Season)\n",
       "   Data: df_women\n",
       "\n",
       "REML criterion at convergence: 3507.5\n",
       "\n",
       "Scaled residuals: \n",
       "    Min      1Q  Median      3Q     Max \n",
       "-2.3626 -0.6091 -0.3159  0.7387  2.8596 \n",
       "\n",
       "Random effects:\n",
       " Groups   Name        Variance Std.Dev.\n",
       " Season   (Intercept)   73.69   8.585  \n",
       " Residual             1199.86  34.639  \n",
       "Number of obs: 354, groups:  Season, 10\n",
       "\n",
       "Fixed effects:\n",
       "            Estimate Std. Error t value\n",
       "(Intercept)   70.270      4.190   16.77\n",
       "tier2        -49.655      4.064  -12.22\n",
       "tier3        -64.103      6.249  -10.26\n",
       "\n",
       "Correlation of Fixed Effects:\n",
       "      (Intr) tier2 \n",
       "tier2 -0.526       \n",
       "tier3 -0.331  0.361"
      ]
     },
     "metadata": {},
     "output_type": "display_data"
    }
   ],
   "source": [
    "# model considering only women who played both levels in the same season \n",
    "model_season_women <- lmer(Adjusted_score ~ tier + (1 | Season), data = df_women)\n",
    "summary(model_season_women)"
   ]
  },
  {
   "cell_type": "code",
   "execution_count": 53,
   "metadata": {},
   "outputs": [
    {
     "data": {
      "text/plain": [
       "Linear mixed model fit by REML ['lmerMod']\n",
       "Formula: Adjusted_score ~ tier + (1 | Season) + (1 | Athlete_name)\n",
       "   Data: df_men\n",
       "\n",
       "REML criterion at convergence: 5159.4\n",
       "\n",
       "Scaled residuals: \n",
       "     Min       1Q   Median       3Q      Max \n",
       "-1.75690 -0.90223  0.00634  0.85270  2.70110 \n",
       "\n",
       "Random effects:\n",
       " Groups       Name        Variance Std.Dev.\n",
       " Athlete_name (Intercept)   13.71   3.703  \n",
       " Season       (Intercept)  176.33  13.279  \n",
       " Residual                 2011.14  44.846  \n",
       "Number of obs: 494, groups:  Athlete_name, 65; Season, 10\n",
       "\n",
       "Fixed effects:\n",
       "            Estimate Std. Error t value\n",
       "(Intercept)   74.649      5.466   13.66\n",
       "tier2        -21.362      4.565   -4.68\n",
       "tier3        -27.508      6.826   -4.03\n",
       "\n",
       "Correlation of Fixed Effects:\n",
       "      (Intr) tier2 \n",
       "tier2 -0.439       \n",
       "tier3 -0.280  0.401"
      ]
     },
     "metadata": {},
     "output_type": "display_data"
    }
   ],
   "source": [
    "model_season_id <- lmer(Adjusted_score ~ tier + (1 | Season) + (1|Athlete_name), data = df_men)\n",
    "summary(model_season_id)\n"
   ]
  },
  {
   "cell_type": "code",
   "execution_count": 54,
   "metadata": {},
   "outputs": [
    {
     "name": "stderr",
     "output_type": "stream",
     "text": [
      "refitting model(s) with ML (instead of REML)\n",
      "\n"
     ]
    },
    {
     "data": {
      "text/html": [
       "<table>\n",
       "<caption>A anova: 2 × 8</caption>\n",
       "<thead>\n",
       "\t<tr><th></th><th scope=col>Df</th><th scope=col>AIC</th><th scope=col>BIC</th><th scope=col>logLik</th><th scope=col>deviance</th><th scope=col>Chisq</th><th scope=col>Chi Df</th><th scope=col>Pr(&gt;Chisq)</th></tr>\n",
       "\t<tr><th></th><th scope=col>&lt;dbl&gt;</th><th scope=col>&lt;dbl&gt;</th><th scope=col>&lt;dbl&gt;</th><th scope=col>&lt;dbl&gt;</th><th scope=col>&lt;dbl&gt;</th><th scope=col>&lt;dbl&gt;</th><th scope=col>&lt;dbl&gt;</th><th scope=col>&lt;dbl&gt;</th></tr>\n",
       "</thead>\n",
       "<tbody>\n",
       "\t<tr><th scope=row>model_season</th><td>5</td><td>5184.794</td><td>5205.807</td><td>-2587.397</td><td>5174.794</td><td>       NA</td><td>NA</td><td>       NA</td></tr>\n",
       "\t<tr><th scope=row>model_season_id</th><td>6</td><td>5186.660</td><td>5211.875</td><td>-2587.330</td><td>5174.660</td><td>0.1348592</td><td> 1</td><td>0.7134461</td></tr>\n",
       "</tbody>\n",
       "</table>\n"
      ],
      "text/latex": [
       "A anova: 2 × 8\n",
       "\\begin{tabular}{r|llllllll}\n",
       "  & Df & AIC & BIC & logLik & deviance & Chisq & Chi Df & Pr(>Chisq)\\\\\n",
       "  & <dbl> & <dbl> & <dbl> & <dbl> & <dbl> & <dbl> & <dbl> & <dbl>\\\\\n",
       "\\hline\n",
       "\tmodel\\_season & 5 & 5184.794 & 5205.807 & -2587.397 & 5174.794 &        NA & NA &        NA\\\\\n",
       "\tmodel\\_season\\_id & 6 & 5186.660 & 5211.875 & -2587.330 & 5174.660 & 0.1348592 &  1 & 0.7134461\\\\\n",
       "\\end{tabular}\n"
      ],
      "text/markdown": [
       "\n",
       "A anova: 2 × 8\n",
       "\n",
       "| <!--/--> | Df &lt;dbl&gt; | AIC &lt;dbl&gt; | BIC &lt;dbl&gt; | logLik &lt;dbl&gt; | deviance &lt;dbl&gt; | Chisq &lt;dbl&gt; | Chi Df &lt;dbl&gt; | Pr(&gt;Chisq) &lt;dbl&gt; |\n",
       "|---|---|---|---|---|---|---|---|---|\n",
       "| model_season | 5 | 5184.794 | 5205.807 | -2587.397 | 5174.794 |        NA | NA |        NA |\n",
       "| model_season_id | 6 | 5186.660 | 5211.875 | -2587.330 | 5174.660 | 0.1348592 |  1 | 0.7134461 |\n",
       "\n"
      ],
      "text/plain": [
       "                Df AIC      BIC      logLik    deviance Chisq     Chi Df\n",
       "model_season    5  5184.794 5205.807 -2587.397 5174.794        NA NA    \n",
       "model_season_id 6  5186.660 5211.875 -2587.330 5174.660 0.1348592  1    \n",
       "                Pr(>Chisq)\n",
       "model_season           NA \n",
       "model_season_id 0.7134461 "
      ]
     },
     "metadata": {},
     "output_type": "display_data"
    }
   ],
   "source": [
    "anova(model_season, model_season_id)"
   ]
  },
  {
   "cell_type": "code",
   "execution_count": 55,
   "metadata": {},
   "outputs": [],
   "source": [
    "df_men['predicted_Scores'] <- predict(model_season, \n",
    "        newdata = df_men,\n",
    "        allow.new.levels = TRUE)"
   ]
  },
  {
   "cell_type": "code",
   "execution_count": 25,
   "metadata": {},
   "outputs": [],
   "source": [
    "model_coef_men <- coef(model_season)$Season\n",
    "model_coef_women <- coef(model_season_women)$Season"
   ]
  },
  {
   "cell_type": "code",
   "execution_count": 27,
   "metadata": {},
   "outputs": [
    {
     "data": {
      "text/html": [
       "-49.6552487679151"
      ],
      "text/latex": [
       "-49.6552487679151"
      ],
      "text/markdown": [
       "-49.6552487679151"
      ],
      "text/plain": [
       "[1] -49.65525"
      ]
     },
     "metadata": {},
     "output_type": "display_data"
    }
   ],
   "source": [
    "model_coef_women$tier2[1]"
   ]
  },
  {
   "cell_type": "code",
   "execution_count": 28,
   "metadata": {},
   "outputs": [
    {
     "name": "stderr",
     "output_type": "stream",
     "text": [
      "Parsed with column specification:\n",
      "cols(\n",
      "  Athlete_Comp_ID = \u001b[31mcol_character()\u001b[39m,\n",
      "  Athlete_name = \u001b[31mcol_character()\u001b[39m,\n",
      "  Score_Metric = \u001b[32mcol_double()\u001b[39m,\n",
      "  Finish_Rank = \u001b[32mcol_double()\u001b[39m,\n",
      "  mean = \u001b[32mcol_double()\u001b[39m,\n",
      "  stddev = \u001b[32mcol_double()\u001b[39m,\n",
      "  Score_Multiplier = \u001b[32mcol_double()\u001b[39m,\n",
      "  Adjusted_score = \u001b[32mcol_double()\u001b[39m,\n",
      "  Season = \u001b[32mcol_double()\u001b[39m,\n",
      "  Season_Comp = \u001b[31mcol_character()\u001b[39m,\n",
      "  Round = \u001b[31mcol_character()\u001b[39m,\n",
      "  tier = \u001b[32mcol_double()\u001b[39m\n",
      ")\n",
      "\n",
      "Parsed with column specification:\n",
      "cols(\n",
      "  Athlete_Comp_ID = \u001b[31mcol_character()\u001b[39m,\n",
      "  Athlete_name = \u001b[31mcol_character()\u001b[39m,\n",
      "  Score_Metric = \u001b[32mcol_double()\u001b[39m,\n",
      "  Finish_Rank = \u001b[32mcol_double()\u001b[39m,\n",
      "  mean = \u001b[32mcol_double()\u001b[39m,\n",
      "  stddev = \u001b[32mcol_double()\u001b[39m,\n",
      "  Score_Multiplier = \u001b[32mcol_double()\u001b[39m,\n",
      "  Adjusted_score = \u001b[32mcol_double()\u001b[39m,\n",
      "  Season = \u001b[32mcol_double()\u001b[39m,\n",
      "  Season_Comp = \u001b[31mcol_character()\u001b[39m,\n",
      "  Round = \u001b[31mcol_character()\u001b[39m,\n",
      "  tier = \u001b[32mcol_double()\u001b[39m\n",
      ")\n",
      "\n"
     ]
    }
   ],
   "source": [
    "df_all_men <- read_csv(\"../data/all_tiers_adjusted_scores_men.csv\")\n",
    "df_all_women <- read_csv(\"../data/all_tiers_adjusted_scores_women.csv\")\n"
   ]
  },
  {
   "cell_type": "code",
   "execution_count": 29,
   "metadata": {},
   "outputs": [],
   "source": [
    "df_all_men <- df_all_men %>% mutate(lvl_adj = case_when(tier == 1 ~ 0, tier == 2 ~ model_coef_men$tier2[1], tier == 3 ~ model_coef_men$tier3[1]))\n",
    "df_all_women <- df_all_women %>% mutate(lvl_adj = case_when(tier == 1 ~ 0, tier == 2 ~ model_coef_women$tier2[1], tier == 3 ~ model_coef_women$tier3[1]))\n",
    "\n",
    "df_all_men <- df_all_men %>% mutate(final_adj_score = Adjusted_score - lvl_adj)\n",
    "df_all_women <- df_all_women %>% mutate(final_adj_score = Adjusted_score - lvl_adj)"
   ]
  },
  {
   "cell_type": "code",
   "execution_count": 30,
   "metadata": {},
   "outputs": [],
   "source": [
    "write_csv(df_all_men, \"../data/final_all_tiers_adjusted_scores_men.csv\")\n",
    "write_csv(df_all_women, \"../data/final_all_tiers_adjusted_scores_women.csv\")"
   ]
  },
  {
   "cell_type": "code",
   "execution_count": null,
   "metadata": {},
   "outputs": [],
   "source": []
  }
 ],
 "metadata": {
  "kernelspec": {
   "display_name": "R",
   "language": "R",
   "name": "ir"
  },
  "language_info": {
   "codemirror_mode": "r",
   "file_extension": ".r",
   "mimetype": "text/x-r-source",
   "name": "R",
   "pygments_lexer": "r",
   "version": "3.6.1"
  }
 },
 "nbformat": 4,
 "nbformat_minor": 2
}

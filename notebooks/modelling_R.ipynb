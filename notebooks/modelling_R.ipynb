{
 "cells": [
  {
   "cell_type": "code",
   "execution_count": 1,
   "metadata": {},
   "outputs": [
    {
     "name": "stderr",
     "output_type": "stream",
     "text": [
      "-- \u001b[1mAttaching packages\u001b[22m --------------------------------------- tidyverse 1.2.1 --\n",
      "\n",
      "\u001b[32mv\u001b[39m \u001b[34mggplot2\u001b[39m 3.2.1     \u001b[32mv\u001b[39m \u001b[34mpurrr  \u001b[39m 0.3.3\n",
      "\u001b[32mv\u001b[39m \u001b[34mtibble \u001b[39m 2.1.3     \u001b[32mv\u001b[39m \u001b[34mdplyr  \u001b[39m 0.8.3\n",
      "\u001b[32mv\u001b[39m \u001b[34mtidyr  \u001b[39m 1.0.0     \u001b[32mv\u001b[39m \u001b[34mstringr\u001b[39m 1.4.0\n",
      "\u001b[32mv\u001b[39m \u001b[34mreadr  \u001b[39m 1.3.1     \u001b[32mv\u001b[39m \u001b[34mforcats\u001b[39m 0.4.0\n",
      "\n",
      "-- \u001b[1mConflicts\u001b[22m ------------------------------------------ tidyverse_conflicts() --\n",
      "\u001b[31mx\u001b[39m \u001b[34mdplyr\u001b[39m::\u001b[32mfilter()\u001b[39m masks \u001b[34mstats\u001b[39m::filter()\n",
      "\u001b[31mx\u001b[39m \u001b[34mdplyr\u001b[39m::\u001b[32mlag()\u001b[39m    masks \u001b[34mstats\u001b[39m::lag()\n",
      "\n",
      "Loading required package: Matrix\n",
      "\n",
      "\n",
      "Attaching package: 'Matrix'\n",
      "\n",
      "\n",
      "The following objects are masked from 'package:tidyr':\n",
      "\n",
      "    expand, pack, unpack\n",
      "\n",
      "\n"
     ]
    }
   ],
   "source": [
    "library(tidyverse)\n",
    "library(lme4)\n",
    "library(ggplot2)"
   ]
  },
  {
   "cell_type": "code",
   "execution_count": 2,
   "metadata": {},
   "outputs": [
    {
     "name": "stderr",
     "output_type": "stream",
     "text": [
      "Parsed with column specification:\n",
      "cols(\n",
      "  Athlete_name = \u001b[31mcol_character()\u001b[39m,\n",
      "  Adjusted_score = \u001b[32mcol_double()\u001b[39m,\n",
      "  Season = \u001b[32mcol_double()\u001b[39m,\n",
      "  tier = \u001b[32mcol_double()\u001b[39m\n",
      ")\n",
      "\n",
      "Parsed with column specification:\n",
      "cols(\n",
      "  Athlete_name = \u001b[31mcol_character()\u001b[39m,\n",
      "  Adjusted_score = \u001b[32mcol_double()\u001b[39m,\n",
      "  Season = \u001b[32mcol_double()\u001b[39m,\n",
      "  tier = \u001b[32mcol_double()\u001b[39m\n",
      ")\n",
      "\n"
     ]
    }
   ],
   "source": [
    "df_men <- read_csv(\"../data/temp_file_for_level_adj_men.csv\")\n",
    "df_women <- read_csv(\"../data/temp_file_for_level_adj_women.csv\")\n"
   ]
  },
  {
   "cell_type": "code",
   "execution_count": 3,
   "metadata": {},
   "outputs": [],
   "source": [
    "df_men['tier'] <- lapply(df_men['tier'], as.character)\n",
    "df_men['Season'] <- lapply(df_men['Season'], as.character)\n"
   ]
  },
  {
   "cell_type": "code",
   "execution_count": 4,
   "metadata": {},
   "outputs": [
    {
     "data": {
      "text/html": [
       "<table>\n",
       "<caption>A tibble: 6 × 4</caption>\n",
       "<thead>\n",
       "\t<tr><th scope=col>Athlete_name</th><th scope=col>Adjusted_score</th><th scope=col>Season</th><th scope=col>tier</th></tr>\n",
       "\t<tr><th scope=col>&lt;chr&gt;</th><th scope=col>&lt;dbl&gt;</th><th scope=col>&lt;chr&gt;</th><th scope=col>&lt;chr&gt;</th></tr>\n",
       "</thead>\n",
       "<tbody>\n",
       "\t<tr><td>COTA Jeremy - USA     </td><td>107.983768</td><td>2010</td><td>1</td></tr>\n",
       "\t<tr><td>DIGRAVIO David - USA  </td><td>113.135247</td><td>2010</td><td>1</td></tr>\n",
       "\t<tr><td>DISCOE Jimmy - USA    </td><td> 11.890073</td><td>2010</td><td>1</td></tr>\n",
       "\t<tr><td>MARQUIS Philippe - CAN</td><td>106.418499</td><td>2010</td><td>1</td></tr>\n",
       "\t<tr><td>ROCHON Cedric - CAN   </td><td>106.396707</td><td>2010</td><td>1</td></tr>\n",
       "\t<tr><td>DIGRAVIO David - USA  </td><td>  9.971327</td><td>2010</td><td>1</td></tr>\n",
       "</tbody>\n",
       "</table>\n"
      ],
      "text/latex": [
       "A tibble: 6 × 4\n",
       "\\begin{tabular}{r|llll}\n",
       " Athlete\\_name & Adjusted\\_score & Season & tier\\\\\n",
       " <chr> & <dbl> & <chr> & <chr>\\\\\n",
       "\\hline\n",
       "\t COTA Jeremy - USA      & 107.983768 & 2010 & 1\\\\\n",
       "\t DIGRAVIO David - USA   & 113.135247 & 2010 & 1\\\\\n",
       "\t DISCOE Jimmy - USA     &  11.890073 & 2010 & 1\\\\\n",
       "\t MARQUIS Philippe - CAN & 106.418499 & 2010 & 1\\\\\n",
       "\t ROCHON Cedric - CAN    & 106.396707 & 2010 & 1\\\\\n",
       "\t DIGRAVIO David - USA   &   9.971327 & 2010 & 1\\\\\n",
       "\\end{tabular}\n"
      ],
      "text/markdown": [
       "\n",
       "A tibble: 6 × 4\n",
       "\n",
       "| Athlete_name &lt;chr&gt; | Adjusted_score &lt;dbl&gt; | Season &lt;chr&gt; | tier &lt;chr&gt; |\n",
       "|---|---|---|---|\n",
       "| COTA Jeremy - USA      | 107.983768 | 2010 | 1 |\n",
       "| DIGRAVIO David - USA   | 113.135247 | 2010 | 1 |\n",
       "| DISCOE Jimmy - USA     |  11.890073 | 2010 | 1 |\n",
       "| MARQUIS Philippe - CAN | 106.418499 | 2010 | 1 |\n",
       "| ROCHON Cedric - CAN    | 106.396707 | 2010 | 1 |\n",
       "| DIGRAVIO David - USA   |   9.971327 | 2010 | 1 |\n",
       "\n"
      ],
      "text/plain": [
       "  Athlete_name           Adjusted_score Season tier\n",
       "1 COTA Jeremy - USA      107.983768     2010   1   \n",
       "2 DIGRAVIO David - USA   113.135247     2010   1   \n",
       "3 DISCOE Jimmy - USA      11.890073     2010   1   \n",
       "4 MARQUIS Philippe - CAN 106.418499     2010   1   \n",
       "5 ROCHON Cedric - CAN    106.396707     2010   1   \n",
       "6 DIGRAVIO David - USA     9.971327     2010   1   "
      ]
     },
     "metadata": {},
     "output_type": "display_data"
    }
   ],
   "source": [
    "head(df_men)"
   ]
  },
  {
   "cell_type": "code",
   "execution_count": 4,
   "metadata": {},
   "outputs": [
    {
     "data": {
      "text/plain": [
       "Linear mixed model fit by REML ['lmerMod']\n",
       "Formula: Adjusted_score ~ tier + (1 | Season)\n",
       "   Data: df_men\n",
       "\n",
       "REML criterion at convergence: 5159.5\n",
       "\n",
       "Scaled residuals: \n",
       "     Min       1Q   Median       3Q      Max \n",
       "-1.78822 -0.91112  0.01147  0.84977  2.72251 \n",
       "\n",
       "Random effects:\n",
       " Groups   Name        Variance Std.Dev.\n",
       " Season   (Intercept)  187.6   13.70   \n",
       " Residual             2022.2   44.97   \n",
       "Number of obs: 494, groups:  Season, 10\n",
       "\n",
       "Fixed effects:\n",
       "            Estimate Std. Error t value\n",
       "(Intercept)   74.673      5.531  13.502\n",
       "tier2        -21.468      4.559  -4.708\n",
       "tier3        -27.862      6.806  -4.094\n",
       "\n",
       "Correlation of Fixed Effects:\n",
       "      (Intr) tier2 \n",
       "tier2 -0.431       \n",
       "tier3 -0.270  0.398"
      ]
     },
     "metadata": {},
     "output_type": "display_data"
    }
   ],
   "source": [
    "model_season <- lmer(Adjusted_score ~ tier + (1 | Season), data = df_men)\n",
    "summary(model_season)"
   ]
  },
  {
   "cell_type": "code",
   "execution_count": 53,
   "metadata": {},
   "outputs": [
    {
     "data": {
      "text/plain": [
       "Linear mixed model fit by REML ['lmerMod']\n",
       "Formula: Adjusted_score ~ tier + (1 | Season) + (1 | Athlete_name)\n",
       "   Data: df_men\n",
       "\n",
       "REML criterion at convergence: 5159.4\n",
       "\n",
       "Scaled residuals: \n",
       "     Min       1Q   Median       3Q      Max \n",
       "-1.75690 -0.90223  0.00634  0.85270  2.70110 \n",
       "\n",
       "Random effects:\n",
       " Groups       Name        Variance Std.Dev.\n",
       " Athlete_name (Intercept)   13.71   3.703  \n",
       " Season       (Intercept)  176.33  13.279  \n",
       " Residual                 2011.14  44.846  \n",
       "Number of obs: 494, groups:  Athlete_name, 65; Season, 10\n",
       "\n",
       "Fixed effects:\n",
       "            Estimate Std. Error t value\n",
       "(Intercept)   74.649      5.466   13.66\n",
       "tier2        -21.362      4.565   -4.68\n",
       "tier3        -27.508      6.826   -4.03\n",
       "\n",
       "Correlation of Fixed Effects:\n",
       "      (Intr) tier2 \n",
       "tier2 -0.439       \n",
       "tier3 -0.280  0.401"
      ]
     },
     "metadata": {},
     "output_type": "display_data"
    }
   ],
   "source": [
    "model_season_id <- lmer(Adjusted_score ~ tier + (1 | Season) + (1|Athlete_name), data = df_men)\n",
    "summary(model_season_id)\n"
   ]
  },
  {
   "cell_type": "code",
   "execution_count": 54,
   "metadata": {},
   "outputs": [
    {
     "name": "stderr",
     "output_type": "stream",
     "text": [
      "refitting model(s) with ML (instead of REML)\n",
      "\n"
     ]
    },
    {
     "data": {
      "text/html": [
       "<table>\n",
       "<caption>A anova: 2 × 8</caption>\n",
       "<thead>\n",
       "\t<tr><th></th><th scope=col>Df</th><th scope=col>AIC</th><th scope=col>BIC</th><th scope=col>logLik</th><th scope=col>deviance</th><th scope=col>Chisq</th><th scope=col>Chi Df</th><th scope=col>Pr(&gt;Chisq)</th></tr>\n",
       "\t<tr><th></th><th scope=col>&lt;dbl&gt;</th><th scope=col>&lt;dbl&gt;</th><th scope=col>&lt;dbl&gt;</th><th scope=col>&lt;dbl&gt;</th><th scope=col>&lt;dbl&gt;</th><th scope=col>&lt;dbl&gt;</th><th scope=col>&lt;dbl&gt;</th><th scope=col>&lt;dbl&gt;</th></tr>\n",
       "</thead>\n",
       "<tbody>\n",
       "\t<tr><th scope=row>model_season</th><td>5</td><td>5184.794</td><td>5205.807</td><td>-2587.397</td><td>5174.794</td><td>       NA</td><td>NA</td><td>       NA</td></tr>\n",
       "\t<tr><th scope=row>model_season_id</th><td>6</td><td>5186.660</td><td>5211.875</td><td>-2587.330</td><td>5174.660</td><td>0.1348592</td><td> 1</td><td>0.7134461</td></tr>\n",
       "</tbody>\n",
       "</table>\n"
      ],
      "text/latex": [
       "A anova: 2 × 8\n",
       "\\begin{tabular}{r|llllllll}\n",
       "  & Df & AIC & BIC & logLik & deviance & Chisq & Chi Df & Pr(>Chisq)\\\\\n",
       "  & <dbl> & <dbl> & <dbl> & <dbl> & <dbl> & <dbl> & <dbl> & <dbl>\\\\\n",
       "\\hline\n",
       "\tmodel\\_season & 5 & 5184.794 & 5205.807 & -2587.397 & 5174.794 &        NA & NA &        NA\\\\\n",
       "\tmodel\\_season\\_id & 6 & 5186.660 & 5211.875 & -2587.330 & 5174.660 & 0.1348592 &  1 & 0.7134461\\\\\n",
       "\\end{tabular}\n"
      ],
      "text/markdown": [
       "\n",
       "A anova: 2 × 8\n",
       "\n",
       "| <!--/--> | Df &lt;dbl&gt; | AIC &lt;dbl&gt; | BIC &lt;dbl&gt; | logLik &lt;dbl&gt; | deviance &lt;dbl&gt; | Chisq &lt;dbl&gt; | Chi Df &lt;dbl&gt; | Pr(&gt;Chisq) &lt;dbl&gt; |\n",
       "|---|---|---|---|---|---|---|---|---|\n",
       "| model_season | 5 | 5184.794 | 5205.807 | -2587.397 | 5174.794 |        NA | NA |        NA |\n",
       "| model_season_id | 6 | 5186.660 | 5211.875 | -2587.330 | 5174.660 | 0.1348592 |  1 | 0.7134461 |\n",
       "\n"
      ],
      "text/plain": [
       "                Df AIC      BIC      logLik    deviance Chisq     Chi Df\n",
       "model_season    5  5184.794 5205.807 -2587.397 5174.794        NA NA    \n",
       "model_season_id 6  5186.660 5211.875 -2587.330 5174.660 0.1348592  1    \n",
       "                Pr(>Chisq)\n",
       "model_season           NA \n",
       "model_season_id 0.7134461 "
      ]
     },
     "metadata": {},
     "output_type": "display_data"
    }
   ],
   "source": [
    "anova(model_season, model_season_id)"
   ]
  },
  {
   "cell_type": "code",
   "execution_count": 55,
   "metadata": {},
   "outputs": [],
   "source": [
    "df_men['predicted_Scores'] <- predict(model_season, \n",
    "        newdata = df_men,\n",
    "        allow.new.levels = TRUE)"
   ]
  },
  {
   "cell_type": "code",
   "execution_count": 5,
   "metadata": {},
   "outputs": [
    {
     "data": {
      "text/html": [
       "<table>\n",
       "<caption>A grouped_df: 22 × 3</caption>\n",
       "<thead>\n",
       "\t<tr><th scope=col>Season</th><th scope=col>tier</th><th scope=col>avg_scores</th></tr>\n",
       "\t<tr><th scope=col>&lt;chr&gt;</th><th scope=col>&lt;chr&gt;</th><th scope=col>&lt;dbl&gt;</th></tr>\n",
       "</thead>\n",
       "<tbody>\n",
       "\t<tr><td>2010</td><td>1</td><td> 68.04989</td></tr>\n",
       "\t<tr><td>2010</td><td>2</td><td> 43.32131</td></tr>\n",
       "\t<tr><td>2011</td><td>1</td><td> 60.72697</td></tr>\n",
       "\t<tr><td>2011</td><td>2</td><td> 76.27265</td></tr>\n",
       "\t<tr><td>2012</td><td>1</td><td> 58.30413</td></tr>\n",
       "\t<tr><td>2012</td><td>2</td><td> 34.20130</td></tr>\n",
       "\t<tr><td>2013</td><td>1</td><td> 46.74901</td></tr>\n",
       "\t<tr><td>2013</td><td>2</td><td> 67.90092</td></tr>\n",
       "\t<tr><td>2014</td><td>1</td><td> 58.59349</td></tr>\n",
       "\t<tr><td>2014</td><td>2</td><td> 50.23028</td></tr>\n",
       "\t<tr><td>2015</td><td>1</td><td>129.44242</td></tr>\n",
       "\t<tr><td>2015</td><td>2</td><td> 40.41857</td></tr>\n",
       "\t<tr><td>2016</td><td>1</td><td>110.47168</td></tr>\n",
       "\t<tr><td>2016</td><td>2</td><td> 71.20255</td></tr>\n",
       "\t<tr><td>2017</td><td>1</td><td> 32.71547</td></tr>\n",
       "\t<tr><td>2017</td><td>2</td><td> 38.03269</td></tr>\n",
       "\t<tr><td>2018</td><td>1</td><td> 99.56662</td></tr>\n",
       "\t<tr><td>2018</td><td>2</td><td> 52.09808</td></tr>\n",
       "\t<tr><td>2018</td><td>3</td><td> 65.15592</td></tr>\n",
       "\t<tr><td>2019</td><td>1</td><td> 65.91866</td></tr>\n",
       "\t<tr><td>2019</td><td>2</td><td> 80.99626</td></tr>\n",
       "\t<tr><td>2019</td><td>3</td><td> 30.37489</td></tr>\n",
       "</tbody>\n",
       "</table>\n"
      ],
      "text/latex": [
       "A grouped_df: 22 × 3\n",
       "\\begin{tabular}{r|lll}\n",
       " Season & tier & avg\\_scores\\\\\n",
       " <chr> & <chr> & <dbl>\\\\\n",
       "\\hline\n",
       "\t 2010 & 1 &  68.04989\\\\\n",
       "\t 2010 & 2 &  43.32131\\\\\n",
       "\t 2011 & 1 &  60.72697\\\\\n",
       "\t 2011 & 2 &  76.27265\\\\\n",
       "\t 2012 & 1 &  58.30413\\\\\n",
       "\t 2012 & 2 &  34.20130\\\\\n",
       "\t 2013 & 1 &  46.74901\\\\\n",
       "\t 2013 & 2 &  67.90092\\\\\n",
       "\t 2014 & 1 &  58.59349\\\\\n",
       "\t 2014 & 2 &  50.23028\\\\\n",
       "\t 2015 & 1 & 129.44242\\\\\n",
       "\t 2015 & 2 &  40.41857\\\\\n",
       "\t 2016 & 1 & 110.47168\\\\\n",
       "\t 2016 & 2 &  71.20255\\\\\n",
       "\t 2017 & 1 &  32.71547\\\\\n",
       "\t 2017 & 2 &  38.03269\\\\\n",
       "\t 2018 & 1 &  99.56662\\\\\n",
       "\t 2018 & 2 &  52.09808\\\\\n",
       "\t 2018 & 3 &  65.15592\\\\\n",
       "\t 2019 & 1 &  65.91866\\\\\n",
       "\t 2019 & 2 &  80.99626\\\\\n",
       "\t 2019 & 3 &  30.37489\\\\\n",
       "\\end{tabular}\n"
      ],
      "text/markdown": [
       "\n",
       "A grouped_df: 22 × 3\n",
       "\n",
       "| Season &lt;chr&gt; | tier &lt;chr&gt; | avg_scores &lt;dbl&gt; |\n",
       "|---|---|---|\n",
       "| 2010 | 1 |  68.04989 |\n",
       "| 2010 | 2 |  43.32131 |\n",
       "| 2011 | 1 |  60.72697 |\n",
       "| 2011 | 2 |  76.27265 |\n",
       "| 2012 | 1 |  58.30413 |\n",
       "| 2012 | 2 |  34.20130 |\n",
       "| 2013 | 1 |  46.74901 |\n",
       "| 2013 | 2 |  67.90092 |\n",
       "| 2014 | 1 |  58.59349 |\n",
       "| 2014 | 2 |  50.23028 |\n",
       "| 2015 | 1 | 129.44242 |\n",
       "| 2015 | 2 |  40.41857 |\n",
       "| 2016 | 1 | 110.47168 |\n",
       "| 2016 | 2 |  71.20255 |\n",
       "| 2017 | 1 |  32.71547 |\n",
       "| 2017 | 2 |  38.03269 |\n",
       "| 2018 | 1 |  99.56662 |\n",
       "| 2018 | 2 |  52.09808 |\n",
       "| 2018 | 3 |  65.15592 |\n",
       "| 2019 | 1 |  65.91866 |\n",
       "| 2019 | 2 |  80.99626 |\n",
       "| 2019 | 3 |  30.37489 |\n",
       "\n"
      ],
      "text/plain": [
       "   Season tier avg_scores\n",
       "1  2010   1     68.04989 \n",
       "2  2010   2     43.32131 \n",
       "3  2011   1     60.72697 \n",
       "4  2011   2     76.27265 \n",
       "5  2012   1     58.30413 \n",
       "6  2012   2     34.20130 \n",
       "7  2013   1     46.74901 \n",
       "8  2013   2     67.90092 \n",
       "9  2014   1     58.59349 \n",
       "10 2014   2     50.23028 \n",
       "11 2015   1    129.44242 \n",
       "12 2015   2     40.41857 \n",
       "13 2016   1    110.47168 \n",
       "14 2016   2     71.20255 \n",
       "15 2017   1     32.71547 \n",
       "16 2017   2     38.03269 \n",
       "17 2018   1     99.56662 \n",
       "18 2018   2     52.09808 \n",
       "19 2018   3     65.15592 \n",
       "20 2019   1     65.91866 \n",
       "21 2019   2     80.99626 \n",
       "22 2019   3     30.37489 "
      ]
     },
     "metadata": {},
     "output_type": "display_data"
    }
   ],
   "source": [
    "df_men %>% group_by(Season, tier) %>% summarize(avg_scores = mean(Adjusted_score))"
   ]
  },
  {
   "cell_type": "code",
   "execution_count": 6,
   "metadata": {},
   "outputs": [],
   "source": [
    "model_coef <- coef(model_season)$Season"
   ]
  },
  {
   "cell_type": "code",
   "execution_count": 7,
   "metadata": {},
   "outputs": [
    {
     "data": {
      "text/html": [
       "-21.4676261638014"
      ],
      "text/latex": [
       "-21.4676261638014"
      ],
      "text/markdown": [
       "-21.4676261638014"
      ],
      "text/plain": [
       "[1] -21.46763"
      ]
     },
     "metadata": {},
     "output_type": "display_data"
    }
   ],
   "source": [
    "model_coef$tier2[1]"
   ]
  },
  {
   "cell_type": "code",
   "execution_count": 9,
   "metadata": {},
   "outputs": [
    {
     "name": "stderr",
     "output_type": "stream",
     "text": [
      "Parsed with column specification:\n",
      "cols(\n",
      "  Athlete_Comp_ID = \u001b[31mcol_character()\u001b[39m,\n",
      "  Athlete_name = \u001b[31mcol_character()\u001b[39m,\n",
      "  Score_Metric = \u001b[32mcol_double()\u001b[39m,\n",
      "  Finish_Rank = \u001b[32mcol_double()\u001b[39m,\n",
      "  mean = \u001b[32mcol_double()\u001b[39m,\n",
      "  stddev = \u001b[32mcol_double()\u001b[39m,\n",
      "  Score_Multiplier = \u001b[32mcol_double()\u001b[39m,\n",
      "  Adjusted_score = \u001b[32mcol_double()\u001b[39m,\n",
      "  Season = \u001b[32mcol_double()\u001b[39m,\n",
      "  Season_Comp = \u001b[31mcol_character()\u001b[39m,\n",
      "  Round = \u001b[31mcol_character()\u001b[39m,\n",
      "  tier = \u001b[32mcol_double()\u001b[39m\n",
      ")\n",
      "\n",
      "Parsed with column specification:\n",
      "cols(\n",
      "  Athlete_Comp_ID = \u001b[31mcol_character()\u001b[39m,\n",
      "  Athlete_name = \u001b[31mcol_character()\u001b[39m,\n",
      "  Score_Metric = \u001b[32mcol_double()\u001b[39m,\n",
      "  Finish_Rank = \u001b[32mcol_double()\u001b[39m,\n",
      "  mean = \u001b[32mcol_double()\u001b[39m,\n",
      "  stddev = \u001b[32mcol_double()\u001b[39m,\n",
      "  Score_Multiplier = \u001b[32mcol_double()\u001b[39m,\n",
      "  Adjusted_score = \u001b[32mcol_double()\u001b[39m,\n",
      "  Season = \u001b[32mcol_double()\u001b[39m,\n",
      "  Season_Comp = \u001b[31mcol_character()\u001b[39m,\n",
      "  Round = \u001b[31mcol_character()\u001b[39m,\n",
      "  tier = \u001b[32mcol_double()\u001b[39m\n",
      ")\n",
      "\n"
     ]
    }
   ],
   "source": [
    "df_all_men <- read_csv(\"../data/all_tiers_adjusted_scores_men.csv\")\n",
    "df_all_women <- read_csv(\"../data/all_tiers_adjusted_scores_women.csv\")\n"
   ]
  },
  {
   "cell_type": "code",
   "execution_count": 10,
   "metadata": {},
   "outputs": [],
   "source": [
    "df_all_men <- df_all_men %>% mutate(lvl_adj = case_when(tier == 1 ~ 0, tier == 2 ~ model_coef$tier2[1], tier == 3 ~ model_coef$tier3[1]))\n",
    "df_all_women <- df_all_women %>% mutate(lvl_adj = case_when(tier == 1 ~ 0, tier == 2 ~ model_coef$tier2[1], tier == 3 ~ model_coef$tier3[1]))\n",
    "\n",
    "df_all_men <- df_all_men %>% mutate(final_adj_score = Adjusted_score - lvl_adj)\n",
    "df_all_women <- df_all_women %>% mutate(final_adj_score = Adjusted_score - lvl_adj)"
   ]
  },
  {
   "cell_type": "code",
   "execution_count": 11,
   "metadata": {},
   "outputs": [],
   "source": [
    "write_csv(df_all_men, \"../data/final_all_tiers_adjusted_scores_men.csv\")\n",
    "write_csv(df_all_women, \"../data/final_all_tiers_adjusted_scores_women.csv\")"
   ]
  },
  {
   "cell_type": "code",
   "execution_count": null,
   "metadata": {},
   "outputs": [],
   "source": []
  }
 ],
 "metadata": {
  "kernelspec": {
   "display_name": "R",
   "language": "R",
   "name": "ir"
  },
  "language_info": {
   "codemirror_mode": "r",
   "file_extension": ".r",
   "mimetype": "text/x-r-source",
   "name": "R",
   "pygments_lexer": "r",
   "version": "3.6.1"
  }
 },
 "nbformat": 4,
 "nbformat_minor": 2
}
